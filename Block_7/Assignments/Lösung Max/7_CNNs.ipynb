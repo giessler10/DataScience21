{
 "cells": [
  {
   "cell_type": "markdown",
   "metadata": {
    "id": "NgYV9F8IE2L_"
   },
   "source": [
    "# Assignment - Image Classification with CNNs\n",
    "![CIFAR10](https://miro.medium.com/max/964/1*syyml8q8s1Yt-iEea5m1Ag.png)\n",
    "\n",
    "[CIFAR 10](https://www.cs.toronto.edu/~kriz/cifar.html) is a small toy data set for image classifaction. \n",
    "\n",
    "* It has 60k images from ten diffenrent classes (like car, airplane, horse,..)\n",
    "* The RGB images are of size 32x32 pixels  "
   ]
  },
  {
   "cell_type": "code",
   "execution_count": 1,
   "metadata": {
    "colab": {
     "base_uri": "https://localhost:8080/"
    },
    "id": "GiDFXXcUEy-G",
    "outputId": "dd458010-2ca8-440b-88a2-768bb50df963"
   },
   "outputs": [
    {
     "name": "stdout",
     "output_type": "stream",
     "text": [
      "x_train shape: (50000, 32, 32, 3)\n",
      "50000 train samples\n",
      "10000 test samples\n"
     ]
    }
   ],
   "source": [
    "#import needed libs\n",
    "from __future__ import print_function\n",
    "import keras\n",
    "from keras.datasets import cifar10\n",
    "from keras.preprocessing.image import ImageDataGenerator\n",
    "from keras.models import Sequential\n",
    "from keras.layers import Dense, Dropout, Activation, Flatten\n",
    "from keras.layers import Conv2D, MaxPooling2D\n",
    "import os\n",
    "\n",
    "#some vars to controll the training -> use them in your code\n",
    "batch_size = 32\n",
    "num_classes = 10 #fixed!\n",
    "epochs = 10\n",
    "\n",
    "# Get the data, split between train and test sets:\n",
    "(x_train, y_train), (x_test, y_test) = cifar10.load_data()\n",
    "print('x_train shape:', x_train.shape)\n",
    "print(x_train.shape[0], 'train samples')\n",
    "print(x_test.shape[0], 'test samples')\n",
    "\n",
    "# Convert class vectors to binary class matrices.\n",
    "y_train = keras.utils.to_categorical(y_train, num_classes)\n",
    "y_test = keras.utils.to_categorical(y_test, num_classes)"
   ]
  },
  {
   "cell_type": "markdown",
   "metadata": {
    "id": "vmocaCkIGOIR"
   },
   "source": [
    "## Task:\n",
    "* visualize some sample images from different classes\n",
    "* build and train the ***AlexNet*** CNN architecture from the lecture, use the following Keras layers:\n",
    "    * overview: https://keras.io/api/layers/\n",
    "    * 2d convolution: https://keras.io/api/layers/convolution_layers/convolution2d/\n",
    "    * Fully Connected (=Matrix Multiplication MLP): https://keras.io/api/layers/core_layers/dense/\n",
    "    * Pooling: https://keras.io/api/layers/pooling_layers/max_pooling2d/   \n",
    "* use 'relu' functions for the non-linear activation -> https://keras.io/api/layers/activation_layers/relu/\n",
    "* optimize the learning hyper-paramters to get the best  test accuracy"
   ]
  },
  {
   "cell_type": "code",
   "execution_count": 2,
   "metadata": {
    "colab": {
     "base_uri": "https://localhost:8080/",
     "height": 266
    },
    "id": "nxCqa7U4Jpyj",
    "outputId": "4f745b8d-2d72-4f73-ef60-698f78de070a"
   },
   "outputs": [
    {
     "data": {
      "image/png": "[encoded data removed]",
      "text/plain": [
       "<Figure size 432x288 with 1 Axes>"
      ]
     },
     "metadata": {
      "needs_background": "light",
      "tags": []
     },
     "output_type": "display_data"
    }
   ],
   "source": [
    "#Sample image\n",
    "import matplotlib.pyplot as plt\n",
    "from matplotlib.pyplot import figure\n",
    "\n",
    "y = x_train[789]\n",
    "plt.imshow(y)\n",
    "plt.show() "
   ]
  },
  {
   "cell_type": "code",
   "execution_count": 3,
   "metadata": {
    "id": "9p5AD8mJEzmL"
   },
   "outputs": [],
   "source": [
    "model = Sequential()\n",
    "\n",
    "#mod 1\n",
    "model.add(Conv2D(32, (3, 3), padding='same', input_shape=x_train.shape[1:])) \n",
    "model.add(Activation('relu'))\n",
    "\n",
    "#mod 2\n",
    "model.add(Conv2D(32, (3, 3), padding='same'))\n",
    "model.add(Activation('relu'))\n",
    "model.add(MaxPooling2D(pool_size=(2, 2)))\n",
    "\n",
    "#mod 3\n",
    "model.add(Conv2D(32, (3, 3), padding='same'))\n",
    "model.add(Activation('relu'))\n",
    "model.add(MaxPooling2D(pool_size=(2, 2)))\n",
    "\n",
    "#mod 4\n",
    "model.add(Conv2D(64, (3, 3), padding='same'))\n",
    "model.add(Activation('relu'))\n",
    "\n",
    "#mod 5\n",
    "model.add(Flatten()) \n",
    "model.add(Dense(512))\n",
    "model.add(Activation('relu'))\n",
    "\n",
    "#mod 6\n",
    "model.add(Dense(num_classes))\n",
    "model.add(Activation('relu'))"
   ]
  },
  {
   "cell_type": "code",
   "execution_count": 4,
   "metadata": {
    "id": "7RI9WE8wNo2W"
   },
   "outputs": [],
   "source": [
    "# optimizer\n",
    "opti = keras.optimizers.RMSprop(learning_rate=0.0001, decay=0.01)\n",
    "model.compile(loss='categorical_crossentropy', optimizer = opti, metrics=['accuracy'])"
   ]
  },
  {
   "cell_type": "code",
   "execution_count": 5,
   "metadata": {
    "id": "ZlW0XsExNrkZ"
   },
   "outputs": [],
   "source": [
    "#Normalize\n",
    "x_train = x_train.astype('float32')\n",
    "x_test = x_test.astype('float32')\n",
    "x_train /= 255\n",
    "x_test /= 255"
   ]
  },
  {
   "cell_type": "code",
   "execution_count": 6,
   "metadata": {
    "colab": {
     "base_uri": "https://localhost:8080/"
    },
    "id": "fyyOFO2mNtcT",
    "outputId": "8ba5500c-e956-4499-ed1d-1f7c2a657db6"
   },
   "outputs": [
    {
     "name": "stdout",
     "output_type": "stream",
     "text": [
      "Epoch 1/10\n",
      "1563/1563 [==============================] - 12s 6ms/step - loss: 3.8474 - accuracy: 0.2997\n",
      "Epoch 2/10\n",
      "1563/1563 [==============================] - 9s 6ms/step - loss: 3.3360 - accuracy: 0.3989\n",
      "Epoch 3/10\n",
      "1563/1563 [==============================] - 9s 6ms/step - loss: 3.3386 - accuracy: 0.4212\n",
      "Epoch 4/10\n",
      "1563/1563 [==============================] - 9s 6ms/step - loss: 3.3578 - accuracy: 0.4278\n",
      "Epoch 5/10\n",
      "1563/1563 [==============================] - 9s 6ms/step - loss: nan - accuracy: 0.4394\n",
      "Epoch 6/10\n",
      "1563/1563 [==============================] - 9s 6ms/step - loss: nan - accuracy: 0.4421\n",
      "Epoch 7/10\n",
      "1563/1563 [==============================] - 9s 6ms/step - loss: nan - accuracy: 0.4396\n",
      "Epoch 8/10\n",
      "1563/1563 [==============================] - 9s 6ms/step - loss: nan - accuracy: 0.4438\n",
      "Epoch 9/10\n",
      "1563/1563 [==============================] - 9s 6ms/step - loss: nan - accuracy: 0.4500\n",
      "Epoch 10/10\n",
      "1563/1563 [==============================] - 9s 6ms/step - loss: nan - accuracy: 0.4455\n"
     ]
    },
    {
     "data": {
      "text/plain": [
       "<tensorflow.python.keras.callbacks.History at 0x7fca002f2a90>"
      ]
     },
     "execution_count": 6,
     "metadata": {
      "tags": []
     },
     "output_type": "execute_result"
    }
   ],
   "source": [
    "#train\n",
    "model.fit(x_train, y_train,\n",
    "              batch_size=batch_size,\n",
    "              epochs=epochs,\n",
    "              shuffle=True)"
   ]
  },
  {
   "cell_type": "code",
   "execution_count": 7,
   "metadata": {
    "colab": {
     "base_uri": "https://localhost:8080/"
    },
    "id": "nBXxT60jNu4a",
    "outputId": "617c31f0-2532-419d-c52d-38ba7721b04c"
   },
   "outputs": [
    {
     "name": "stdout",
     "output_type": "stream",
     "text": [
      "313/313 [==============================] - 1s 3ms/step - loss: nan - accuracy: 0.4462\n",
      "Test accuracy: 0.44620001316070557\n"
     ]
    }
   ],
   "source": [
    "#test\n",
    "test = model.evaluate(x_test, y_test)\n",
    "print('Test accuracy:', test[1])"
   ]
  }
 ],
 "metadata": {
  "accelerator": "GPU",
  "colab": {
   "collapsed_sections": [],
   "name": "7_CNNs.ipynb",
   "provenance": [],
   "toc_visible": true
  },
  "kernelspec": {
   "display_name": "Python 3",
   "language": "python",
   "name": "python3"
  },
  "language_info": {
   "codemirror_mode": {
    "name": "ipython",
    "version": 3
   },
   "file_extension": ".py",
   "mimetype": "text/x-python",
   "name": "python",
   "nbconvert_exporter": "python",
   "pygments_lexer": "ipython3",
   "version": "3.8.5"
  }
 },
 "nbformat": 4,
 "nbformat_minor": 4
}
