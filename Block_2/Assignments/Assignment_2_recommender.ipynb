{
 "cells": [
  {
   "cell_type": "markdown",
   "metadata": {},
   "source": [
    "# Assignment 2: recommender System"
   ]
  },
  {
   "cell_type": "markdown",
   "metadata": {},
   "source": [
    "## Code from the lecture"
   ]
  },
  {
   "cell_type": "code",
   "execution_count": 51,
   "metadata": {},
   "outputs": [],
   "source": [
    "#read data to DataFrames\n",
    "import pandas as pd\n",
    "import numpy as np\n",
    "%matplotlib inline\n",
    "import matplotlib.pyplot as plt\n",
    "\n",
    "u_cols = ['user_id', 'age', 'sex', 'occupation', 'zip_code']\n",
    "users = pd.read_csv('../../DATA/movielens100k/u.user', sep='|', names=u_cols, encoding = \"ISO-8859-1\")\n",
    "\n",
    "r_cols = ['user_id', 'movie_id', 'rating', 'timestamp']\n",
    "ratings = pd.read_csv('../../DATA/movielens100k/u.data', sep='\\t', names=r_cols, encoding = \"ISO-8859-1\")\n",
    "\n",
    "m_cols=['movie_id', 'title', 'release date', 'video release date', 'IMDb_URL', 'unknown', 'Action', 'Adventure', 'Animation', 'Childrens', 'Comedy', 'Crime', 'Documentary', 'Drama', 'Fantasy', 'Film-Noir', 'Horror', 'Musical', 'Mystery', 'Romance', 'Sci-Fi', 'Thriller', 'War', 'Western']\n",
    "movies = pd.read_csv('../../DATA/movielens100k/u.item', sep='|', names=m_cols ,encoding = \"ISO-8859-1\" )"
   ]
  },
  {
   "cell_type": "code",
   "execution_count": 298,
   "metadata": {},
   "outputs": [],
   "source": [
    "#gerate matrix (this can be done more efficiently!)\n",
    "R=np.zeros((np.shape(users)[0],np.shape(movies)[0]))\n",
    "for i in range(np.shape(ratings)[0]):\n",
    "    R[ratings['user_id'][i]-1, ratings['movie_id'][i]-1]=ratings['rating'][i]"
   ]
  },
  {
   "cell_type": "code",
   "execution_count": 55,
   "metadata": {},
   "outputs": [],
   "source": [
    "epsilon=0.0000001\n",
    "def CosineDist(a,b):\n",
    "    return a.dot(b)/(np.linalg.norm(a)*np.linalg.norm(b) + epsilon)"
   ]
  },
  {
   "cell_type": "code",
   "execution_count": 56,
   "metadata": {},
   "outputs": [],
   "source": [
    "#again, implementation not efficient: better use lamda opperators \n",
    "D=np.zeros((np.shape(movies)[0],np.shape(movies)[0]))\n",
    "for i in range(0,np.shape(movies)[0]):\n",
    "    for j in range(0,np.shape(movies)[0]):\n",
    "        if i!=j:\n",
    "            D[i,j]=CosineDist(R[:,i],R[:,j])"
   ]
  },
  {
   "cell_type": "code",
   "execution_count": 186,
   "metadata": {},
   "outputs": [],
   "source": [
    "def getTopN(movie_id,D,N=5):\n",
    "    return D[movie_id,:].argsort()[-N:]\n",
    "\n",
    "def getIDbyName(name):\n",
    "    if np.size(movies.movie_id[movies.title.str.contains(name)]) > 0:\n",
    "        m = int(movies.movie_id[movies.title.str.contains(name)][:1]), str(movies.title[movies.title.str.contains(name)][:1])\n",
    "        return m[0]-1\n",
    "    else:\n",
    "        return -1\n",
    "    \n",
    "def getNameByID(IDs):\n",
    "    res=movies.iloc[IDs]\n",
    "    return res.title\n",
    "\n",
    "def CII(title,D):\n",
    "    if getIDbyName(title) > 0:\n",
    "        print (\"recommending movies for: '\" + str(getNameByID(getIDbyName(title)))+\"'\")\n",
    "        return getNameByID(getTopN(getIDbyName(title),D))[::-1]\n",
    "    else:\n",
    "        print (\"no movie title containing \" + str(title) + \"found...\")\n",
    "        \n",
    "def Score_byID(ID, D, Test):\n",
    "    #print (\"Hit Scores for: \", getNameByID(ID))\n",
    "    res_id = getTopN(ID,D)[::-1]\n",
    "    res_title = getNameByID(getTopN(ID,D))[::-1]\n",
    "    res_score = Test[res_id]\n",
    "    return res_id, res_title, res_score, np.mean(res_score)\n",
    "    \n",
    "#compute scores for all test users\n",
    "def test_Score(D_train, R_test):\n",
    "    userScores=[]\n",
    "    for i in range(R_test.shape[0]):\n",
    "        userScore=0\n",
    "        userTop = np.argsort(R_test[i])[-5:]\n",
    "        for e in userTop:\n",
    "            res_id, res_title, res_score, av_score = Score_byID(e,D_train, R_test[i])\n",
    "            userScore+=av_score\n",
    "        userScores.append(userScore/(5))\n",
    "    return userScores"
   ]
  },
  {
   "cell_type": "markdown",
   "metadata": {},
   "source": [
    "## 4.1 Alternative Distance Measures\n",
    "Implement a different distance measure, e.g. eucledian and compare the ressults."
   ]
  },
  {
   "cell_type": "markdown",
   "metadata": {},
   "source": [
    "## 4.2 Baseline Results\n",
    "Implement and compare results of\n",
    "* random recommendations\n",
    "* allways recommending the top 5 movies (over all users)"
   ]
  },
  {
   "cell_type": "markdown",
   "metadata": {},
   "source": [
    "## 4.3 SVD\n",
    "Implement the SVD approach. Hints: \n",
    "* use numpy.linalg.svd()\n",
    "* apply SVD on $D$\n",
    "* plot the singular values and decide where to cut off the reconstruction\n",
    "* reconstruct and evaluate $D'$\n"
   ]
  },
  {
   "cell_type": "markdown",
   "metadata": {},
   "source": [
    "## Lösung Aufgabe 4.1"
   ]
  },
  {
   "cell_type": "code",
   "execution_count": 58,
   "metadata": {},
   "outputs": [],
   "source": [
    "#Methode Eucledian Distance\n",
    "\n",
    "def EucledianDist(a,b):\n",
    "    return np.linalg.norm(b-a)"
   ]
  },
  {
   "cell_type": "code",
   "execution_count": 59,
   "metadata": {},
   "outputs": [],
   "source": [
    "#Matrix Eucledian Distance Deuc erzeugen\n",
    "\n",
    "Deuc=np.zeros((np.shape(movies)[0],np.shape(movies)[0]))\n",
    "for i in range(0,np.shape(movies)[0]):\n",
    "    for j in range(0,np.shape(movies)[0]):\n",
    "        if i!=j:\n",
    "            Deuc[i,j]=EucledianDist(R[:,i],R[:,j])"
   ]
  },
  {
   "cell_type": "code",
   "execution_count": 65,
   "metadata": {},
   "outputs": [
    {
     "name": "stdout",
     "output_type": "stream",
     "text": [
      "recommending movies for: 'Star Wars (1977)'\n"
     ]
    },
    {
     "data": {
      "text/plain": [
       "180          Return of the Jedi (1983)\n",
       "173     Raiders of the Lost Ark (1981)\n",
       "171    Empire Strikes Back, The (1980)\n",
       "0                     Toy Story (1995)\n",
       "126              Godfather, The (1972)\n",
       "Name: title, dtype: object"
      ]
     },
     "execution_count": 65,
     "metadata": {},
     "output_type": "execute_result"
    }
   ],
   "source": [
    "#Anfrage auf Datensatz D\n",
    "CII(\"Star\",D)"
   ]
  },
  {
   "cell_type": "code",
   "execution_count": 66,
   "metadata": {},
   "outputs": [
    {
     "name": "stdout",
     "output_type": "stream",
     "text": [
      "recommending movies for: 'Star Wars (1977)'\n"
     ]
    },
    {
     "data": {
      "text/plain": [
       "989              Anna Karenina (1997)\n",
       "1061    Four Days in September (1997)\n",
       "1126          Truman Show, The (1998)\n",
       "937        Smile Like Yours, A (1997)\n",
       "1242               Night Flier (1997)\n",
       "Name: title, dtype: object"
      ]
     },
     "execution_count": 66,
     "metadata": {},
     "output_type": "execute_result"
    }
   ],
   "source": [
    "#Anfrage auf Datensatz Deuc (Euclidische Berechnung)\n",
    "CII(\"Star\",Deuc)"
   ]
  },
  {
   "cell_type": "code",
   "execution_count": 194,
   "metadata": {},
   "outputs": [],
   "source": [
    "#Testdaten D_train mit R_train und R_test\n",
    "\n",
    "from sklearn.model_selection import train_test_split\n",
    "R_train, R_test = train_test_split(R, test_size=0.1)\n",
    "\n",
    "D_train=np.zeros((np.shape(movies)[0],np.shape(movies)[0]))\n",
    "for i in range(0,np.shape(movies)[0]):\n",
    "    for j in range(0,np.shape(movies)[0]):\n",
    "        if i!=j:\n",
    "            D_train[i,j]=CosineDist(R_train[:,i],R_train[:,j])"
   ]
  },
  {
   "cell_type": "code",
   "execution_count": 68,
   "metadata": {},
   "outputs": [],
   "source": [
    "#Testdaten Deuc_train mit R_train und R_test\n",
    "\n",
    "Deuc_train=np.zeros((np.shape(movies)[0],np.shape(movies)[0]))\n",
    "for i in range(0,np.shape(movies)[0]):\n",
    "    for j in range(0,np.shape(movies)[0]):\n",
    "        if i!=j:\n",
    "            Deuc_train[i,j]=EucledianDist(R_train[:,i],R_train[:,j])"
   ]
  },
  {
   "cell_type": "code",
   "execution_count": 69,
   "metadata": {},
   "outputs": [
    {
     "name": "stdout",
     "output_type": "stream",
     "text": [
      "recommending movies for: 'Star Wars (1977)'\n"
     ]
    },
    {
     "data": {
      "text/plain": [
       "180          Return of the Jedi (1983)\n",
       "173     Raiders of the Lost Ark (1981)\n",
       "171    Empire Strikes Back, The (1980)\n",
       "0                     Toy Story (1995)\n",
       "120      Independence Day (ID4) (1996)\n",
       "Name: title, dtype: object"
      ]
     },
     "execution_count": 69,
     "metadata": {},
     "output_type": "execute_result"
    }
   ],
   "source": [
    "#Anfrage auf Testdatensatz D_train\n",
    "CII(\"Star\",D_train)"
   ]
  },
  {
   "cell_type": "code",
   "execution_count": 70,
   "metadata": {},
   "outputs": [
    {
     "name": "stdout",
     "output_type": "stream",
     "text": [
      "recommending movies for: 'Star Wars (1977)'\n"
     ]
    },
    {
     "data": {
      "text/plain": [
       "989                 Anna Karenina (1997)\n",
       "1061       Four Days in September (1997)\n",
       "937           Smile Like Yours, A (1997)\n",
       "1242                  Night Flier (1997)\n",
       "1293    Ayn Rand: A Sense of Life (1997)\n",
       "Name: title, dtype: object"
      ]
     },
     "execution_count": 70,
     "metadata": {},
     "output_type": "execute_result"
    }
   ],
   "source": [
    "#Anfrage auf Testdatensatz Deuc_train\n",
    "CII(\"Star\",Deuc_train)"
   ]
  },
  {
   "cell_type": "code",
   "execution_count": 187,
   "metadata": {},
   "outputs": [
    {
     "name": "stdout",
     "output_type": "stream",
     "text": [
      "Mean Squared Error der Cosinus-Distanz:  2.1991578947368424\n"
     ]
    }
   ],
   "source": [
    "#Mean Squard Error Cosinus\n",
    "test_resD=test_Score(D_train,R_test)\n",
    "error_Cosinus = np.mean(test_resD)\n",
    "print(\"Mean Squared Error der Cosinus-Distanz: \",error_Cosinus)"
   ]
  },
  {
   "cell_type": "code",
   "execution_count": 76,
   "metadata": {},
   "outputs": [
    {
     "data": {
      "text/plain": [
       "(array([ 2.,  5.,  8., 13., 15., 12.,  7., 14., 12.,  7.]),\n",
       " array([0.   , 0.396, 0.792, 1.188, 1.584, 1.98 , 2.376, 2.772, 3.168,\n",
       "        3.564, 3.96 ]),\n",
       " <BarContainer object of 10 artists>)"
      ]
     },
     "execution_count": 76,
     "metadata": {},
     "output_type": "execute_result"
    },
    {
     "data": {
      "image/png": "[encoded data removed]",
      "text/plain": [
       "<Figure size 432x288 with 1 Axes>"
      ]
     },
     "metadata": {
      "needs_background": "light"
     },
     "output_type": "display_data"
    }
   ],
   "source": [
    "plt.hist(test_resD)"
   ]
  },
  {
   "cell_type": "code",
   "execution_count": 197,
   "metadata": {},
   "outputs": [
    {
     "name": "stdout",
     "output_type": "stream",
     "text": [
      "Mean Squared Error der Euclidischen-Distanz:  1.402947368421053\n"
     ]
    }
   ],
   "source": [
    "#Mean Squard Error Euclidisan\n",
    "test_resDeuc=test_Score(Deuc_train,R_test)\n",
    "error_Eucl = np.mean(test_resDeuc)\n",
    "print(\"Mean Squared Error der Euclidischen-Distanz: \",error_Eucl)"
   ]
  },
  {
   "cell_type": "code",
   "execution_count": 75,
   "metadata": {},
   "outputs": [
    {
     "data": {
      "text/plain": [
       "(array([15.,  9., 16., 10., 18., 11., 11.,  3.,  1.,  1.]),\n",
       " array([0.  , 0.46, 0.92, 1.38, 1.84, 2.3 , 2.76, 3.22, 3.68, 4.14, 4.6 ]),\n",
       " <BarContainer object of 10 artists>)"
      ]
     },
     "execution_count": 75,
     "metadata": {},
     "output_type": "execute_result"
    },
    {
     "data": {
      "image/png": "[encoded data removed]",
      "text/plain": [
       "<Figure size 432x288 with 1 Axes>"
      ]
     },
     "metadata": {
      "needs_background": "light"
     },
     "output_type": "display_data"
    }
   ],
   "source": [
    "plt.hist(test_resDeuc)"
   ]
  },
  {
   "cell_type": "markdown",
   "metadata": {},
   "source": [
    "## Lösung Aufgabe 4.2"
   ]
  },
  {
   "cell_type": "code",
   "execution_count": 299,
   "metadata": {},
   "outputs": [],
   "source": [
    "#Fünf zufällige Filme\n",
    "def get_ZufallID_Movie(movies):\n",
    "    return np.random.randint(1,movies.shape[0])\n",
    "\n",
    "def get_Random_MovieIDs(N=5):\n",
    "    randomIDs = np.zeros(N, dtype=int)\n",
    "    for i in range(N):\n",
    "        randomIDs[i] = np.random.randint(1,movies.shape[0])\n",
    "    return randomIDs\n",
    "\n",
    "def get_TopN_Movie_Ratings(N=5):\n",
    "    A=np.zeros(np.shape(movies)[0])\n",
    "    for i in range(0,np.shape(movies)[0]):\n",
    "        A[i]=np.mean(R[:,i])\n",
    "        #A[i]=np.mean(R, axis=0)[5]  #Same Result\n",
    "    return A.argsort()[-N:]\n",
    "\n",
    "def Score_byID_R(ID,movieIDs, Test):\n",
    "    res_id = movieIDs[::-1]\n",
    "    res_title = getNameByID(movieIDs)[::-1]\n",
    "    res_score = Test[res_id]\n",
    "    return res_id, res_title, res_score, np.mean(res_score)\n",
    "    \n",
    "#compute scores for all test users\n",
    "def test_Score_R(movieIDs,R_test):\n",
    "    userScores=[]\n",
    "    for i in range(R_test.shape[0]):\n",
    "        userScore=0\n",
    "        userTop = np.argsort(R_test[i])[-5:]\n",
    "        for e in userTop:\n",
    "            res_id, res_title, res_score, av_score = Score_byID_R(e, movieIDs, R_test[i])\n",
    "            userScore+=av_score\n",
    "        userScores.append(userScore/(5))\n",
    "    return userScores\n",
    "\n",
    "TopNIDs = get_TopN_Movie_Ratings()\n",
    "RandomIDs = get_Random_MovieIDs()"
   ]
  },
  {
   "cell_type": "code",
   "execution_count": 300,
   "metadata": {},
   "outputs": [
    {
     "data": {
      "text/plain": [
       "array([1189, 1384, 1177,  137, 1117])"
      ]
     },
     "execution_count": 300,
     "metadata": {},
     "output_type": "execute_result"
    }
   ],
   "source": [
    "#Random Filme IDs\n",
    "RandomIDs"
   ]
  },
  {
   "cell_type": "code",
   "execution_count": 301,
   "metadata": {},
   "outputs": [
    {
     "data": {
      "text/plain": [
       "array([173, 257, 180,  99,  49], dtype=int64)"
      ]
     },
     "execution_count": 301,
     "metadata": {},
     "output_type": "execute_result"
    }
   ],
   "source": [
    "#Top 5 Filme IDs\n",
    "TopNIDs"
   ]
  },
  {
   "cell_type": "code",
   "execution_count": 302,
   "metadata": {},
   "outputs": [
    {
     "name": "stdout",
     "output_type": "stream",
     "text": [
      "Mean Squared Error für die Top 5 Filme:  2.164210526315789\n"
     ]
    }
   ],
   "source": [
    "#Mean Squard Error Top 5\n",
    "test_TopN=test_Score_R(TopNIDs,R_test)\n",
    "error_test_TopN = np.mean(test_TopN)\n",
    "print(\"Mean Squared Error für die Top 5 Filme: \", error_test_TopN)"
   ]
  },
  {
   "cell_type": "code",
   "execution_count": 303,
   "metadata": {},
   "outputs": [
    {
     "data": {
      "text/plain": [
       "(array([13.,  9., 12., 10.,  6., 10.,  8., 15.,  6.,  6.]),\n",
       " array([0.  , 0.48, 0.96, 1.44, 1.92, 2.4 , 2.88, 3.36, 3.84, 4.32, 4.8 ]),\n",
       " <BarContainer object of 10 artists>)"
      ]
     },
     "execution_count": 303,
     "metadata": {},
     "output_type": "execute_result"
    },
    {
     "data": {
      "image/png": "[encoded data removed]",
      "text/plain": [
       "<Figure size 432x288 with 1 Axes>"
      ]
     },
     "metadata": {
      "needs_background": "light"
     },
     "output_type": "display_data"
    }
   ],
   "source": [
    "plt.hist(test_TopN)"
   ]
  },
  {
   "cell_type": "code",
   "execution_count": 304,
   "metadata": {},
   "outputs": [
    {
     "name": "stdout",
     "output_type": "stream",
     "text": [
      "Mean Squared Error für 5 random Filme:  0.05052631578947368\n"
     ]
    }
   ],
   "source": [
    "#Mean Squard Error Random\n",
    "test_Random=test_Score_R(RandomIDs,R_test)\n",
    "error_test_Random = np.mean(test_Random)\n",
    "print(\"Mean Squared Error für 5 random Filme: \", error_test_Random)"
   ]
  },
  {
   "cell_type": "code",
   "execution_count": 307,
   "metadata": {},
   "outputs": [
    {
     "data": {
      "text/plain": [
       "(array([88.,  1.,  2.,  0.,  1.,  1.,  0.,  1.,  0.,  1.]),\n",
       " array([0.  , 0.14, 0.28, 0.42, 0.56, 0.7 , 0.84, 0.98, 1.12, 1.26, 1.4 ]),\n",
       " <BarContainer object of 10 artists>)"
      ]
     },
     "execution_count": 307,
     "metadata": {},
     "output_type": "execute_result"
    },
    {
     "data": {
      "image/png": "[encoded data removed]",
      "text/plain": [
       "<Figure size 432x288 with 1 Axes>"
      ]
     },
     "metadata": {
      "needs_background": "light"
     },
     "output_type": "display_data"
    }
   ],
   "source": [
    "plt.hist(test_Random)"
   ]
  },
  {
   "cell_type": "markdown",
   "metadata": {},
   "source": [
    "## Lösung Aufgabe 4.3"
   ]
  },
  {
   "cell_type": "code",
   "execution_count": 260,
   "metadata": {},
   "outputs": [
    {
     "data": {
      "text/plain": [
       "array([[0.        , 0.40238218, 0.33024479, ..., 0.        , 0.04718307,\n",
       "        0.04718307],\n",
       "       [0.40238218, 0.        , 0.27306918, ..., 0.        , 0.07829936,\n",
       "        0.07829936],\n",
       "       [0.33024479, 0.27306918, 0.        , ..., 0.        , 0.        ,\n",
       "        0.09687505],\n",
       "       ...,\n",
       "       [0.        , 0.        , 0.        , ..., 0.        , 0.        ,\n",
       "        0.        ],\n",
       "       [0.04718307, 0.07829936, 0.        , ..., 0.        , 0.        ,\n",
       "        0.        ],\n",
       "       [0.04718307, 0.07829936, 0.09687505, ..., 0.        , 0.        ,\n",
       "        0.        ]])"
      ]
     },
     "execution_count": 260,
     "metadata": {},
     "output_type": "execute_result"
    }
   ],
   "source": [
    "#Sigulärwertzwerlegung\n",
    "\n",
    "#D anzeigen\n",
    "D"
   ]
  },
  {
   "cell_type": "code",
   "execution_count": 261,
   "metadata": {},
   "outputs": [],
   "source": [
    "U,S,V = np.linalg.svd(D)"
   ]
  },
  {
   "cell_type": "code",
   "execution_count": 262,
   "metadata": {},
   "outputs": [
    {
     "data": {
      "text/plain": [
       "array([[-0.04732606, -0.01485397,  0.01710692, ...,  0.03320633,\n",
       "         0.07709852,  0.02683127],\n",
       "       [-0.0442046 , -0.02817456, -0.00874025, ..., -0.01037844,\n",
       "         0.02276745,  0.01173597],\n",
       "       [-0.03099178, -0.01538773, -0.00099615, ...,  0.01075306,\n",
       "         0.03056101, -0.02053747],\n",
       "       ...,\n",
       "       [-0.00086959,  0.00484583, -0.00268401, ...,  0.00168333,\n",
       "         0.00644098, -0.00680988],\n",
       "       [-0.00516609, -0.00164718,  0.00114115, ...,  0.01203374,\n",
       "         0.01327531, -0.00629676],\n",
       "       [-0.00501757,  0.00051215,  0.00370972, ...,  0.0316123 ,\n",
       "         0.00433746, -0.01458175]])"
      ]
     },
     "execution_count": 262,
     "metadata": {},
     "output_type": "execute_result"
    }
   ],
   "source": [
    "#U anzeigen\n",
    "U"
   ]
  },
  {
   "cell_type": "code",
   "execution_count": 263,
   "metadata": {},
   "outputs": [
    {
     "data": {
      "text/plain": [
       "array([1.92975815e+02, 5.07954112e+01, 4.48492793e+01, ...,\n",
       "       4.84719784e-03, 3.25223840e-03, 8.77128853e-05])"
      ]
     },
     "execution_count": 263,
     "metadata": {},
     "output_type": "execute_result"
    }
   ],
   "source": [
    "#S anzeigen\n",
    "S"
   ]
  },
  {
   "cell_type": "code",
   "execution_count": 264,
   "metadata": {},
   "outputs": [
    {
     "data": {
      "text/plain": [
       "array([[-0.04732606, -0.0442046 , -0.03099178, ..., -0.00086959,\n",
       "        -0.00516609, -0.00501757],\n",
       "       [-0.01485397, -0.02817456, -0.01538773, ...,  0.00484583,\n",
       "        -0.00164718,  0.00051215],\n",
       "       [ 0.01710692, -0.00874025, -0.00099615, ..., -0.00268401,\n",
       "         0.00114115,  0.00370972],\n",
       "       ...,\n",
       "       [-0.03320633,  0.01037844, -0.01075306, ..., -0.00168333,\n",
       "        -0.01203374, -0.0316123 ],\n",
       "       [ 0.07709852,  0.02276745,  0.03056101, ...,  0.00644098,\n",
       "         0.01327531,  0.00433746],\n",
       "       [-0.02683127, -0.01173597,  0.02053747, ...,  0.00680988,\n",
       "         0.00629676,  0.01458175]])"
      ]
     },
     "execution_count": 264,
     "metadata": {},
     "output_type": "execute_result"
    }
   ],
   "source": [
    "#V anzeigen\n",
    "V"
   ]
  },
  {
   "cell_type": "code",
   "execution_count": 265,
   "metadata": {},
   "outputs": [
    {
     "data": {
      "text/plain": [
       "[<matplotlib.lines.Line2D at 0x2a0a5d03a30>]"
      ]
     },
     "execution_count": 265,
     "metadata": {},
     "output_type": "execute_result"
    },
    {
     "data": {
      "image/png": "[encoded data removed]",
      "text/plain": [
       "<Figure size 432x288 with 1 Axes>"
      ]
     },
     "metadata": {
      "needs_background": "light"
     },
     "output_type": "display_data"
    }
   ],
   "source": [
    "plt.plot(S)"
   ]
  },
  {
   "cell_type": "code",
   "execution_count": 266,
   "metadata": {},
   "outputs": [
    {
     "data": {
      "text/plain": [
       "(array([1.673e+03, 5.000e+00, 3.000e+00, 0.000e+00, 0.000e+00, 0.000e+00,\n",
       "        0.000e+00, 0.000e+00, 0.000e+00, 1.000e+00]),\n",
       " array([8.77128853e-05, 1.92976604e+01, 3.85952332e+01, 5.78928059e+01,\n",
       "        7.71903786e+01, 9.64879513e+01, 1.15785524e+02, 1.35083097e+02,\n",
       "        1.54380669e+02, 1.73678242e+02, 1.92975815e+02]),\n",
       " <BarContainer object of 10 artists>)"
      ]
     },
     "execution_count": 266,
     "metadata": {},
     "output_type": "execute_result"
    },
    {
     "data": {
      "image/png": "[encoded data removed]",
      "text/plain": [
       "<Figure size 432x288 with 1 Axes>"
      ]
     },
     "metadata": {
      "needs_background": "light"
     },
     "output_type": "display_data"
    }
   ],
   "source": [
    "plt.hist(S)"
   ]
  },
  {
   "cell_type": "code",
   "execution_count": 267,
   "metadata": {},
   "outputs": [
    {
     "data": {
      "text/plain": [
       "True"
      ]
     },
     "execution_count": 267,
     "metadata": {},
     "output_type": "execute_result"
    }
   ],
   "source": [
    "#Reconstruct True / False?\n",
    "\n",
    "np.allclose(D,np.dot(U * S ,V))"
   ]
  },
  {
   "cell_type": "code",
   "execution_count": 268,
   "metadata": {},
   "outputs": [],
   "source": [
    "cut=80\n",
    "D_Slice = np.dot(U[:,:cut] * S[:cut] ,V[:cut,:])"
   ]
  },
  {
   "cell_type": "code",
   "execution_count": 270,
   "metadata": {},
   "outputs": [
    {
     "name": "stdout",
     "output_type": "stream",
     "text": [
      "Mean Squared Error der Euclidischen-Distanz:  2.9410526315789483\n"
     ]
    }
   ],
   "source": [
    "#Mean Squard Error D_Slice\n",
    "test_D_Sclice=test_Score(D_Slice,R_test)\n",
    "error_D_Slice = np.mean(test_D_Sclice)\n",
    "print(\"Mean Squared Error der Euclidischen-Distanz: \",error_D_Slice)"
   ]
  },
  {
   "cell_type": "code",
   "execution_count": null,
   "metadata": {},
   "outputs": [],
   "source": []
  }
 ],
 "metadata": {
  "kernelspec": {
   "display_name": "Python 3",
   "language": "python",
   "name": "python3"
  },
  "language_info": {
   "codemirror_mode": {
    "name": "ipython",
    "version": 3
   },
   "file_extension": ".py",
   "mimetype": "text/x-python",
   "name": "python",
   "nbconvert_exporter": "python",
   "pygments_lexer": "ipython3",
   "version": "3.8.5"
  }
 },
 "nbformat": 4,
 "nbformat_minor": 4
}
