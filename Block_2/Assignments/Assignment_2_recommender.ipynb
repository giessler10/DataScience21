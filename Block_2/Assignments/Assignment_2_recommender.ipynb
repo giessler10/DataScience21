{
 "cells": [
  {
   "cell_type": "markdown",
   "metadata": {},
   "source": [
    "# Assignment 2: recommender System"
   ]
  },
  {
   "cell_type": "markdown",
   "metadata": {},
   "source": [
    "## Code from the lecture"
   ]
  },
  {
   "cell_type": "code",
   "execution_count": 1,
   "metadata": {},
   "outputs": [],
   "source": [
    "#read data to DataFrames\n",
    "import pandas as pd\n",
    "import numpy as np\n",
    "%matplotlib inline\n",
    "import matplotlib.pyplot as plt\n",
    "\n",
    "u_cols = ['user_id', 'age', 'sex', 'occupation', 'zip_code']\n",
    "users = pd.read_csv('../../DATA/movielens100k/u.user', sep='|', names=u_cols, encoding = \"ISO-8859-1\")\n",
    "\n",
    "r_cols = ['user_id', 'movie_id', 'rating', 'timestamp']\n",
    "ratings = pd.read_csv('../../DATA/movielens100k/u.data', sep='\\t', names=r_cols, encoding = \"ISO-8859-1\")\n",
    "\n",
    "m_cols=['movie_id', 'title', 'release date', 'video release date', 'IMDb_URL', 'unknown', 'Action', 'Adventure', 'Animation', 'Childrens', 'Comedy', 'Crime', 'Documentary', 'Drama', 'Fantasy', 'Film-Noir', 'Horror', 'Musical', 'Mystery', 'Romance', 'Sci-Fi', 'Thriller', 'War', 'Western']\n",
    "movies = pd.read_csv('../../DATA/movielens100k/u.item', sep='|', names=m_cols ,encoding = \"ISO-8859-1\" )"
   ]
  },
  {
   "cell_type": "code",
   "execution_count": 2,
   "metadata": {},
   "outputs": [],
   "source": [
    "#gerate matrix (this can be done more efficiently!)\n",
    "R=np.zeros((np.shape(users)[0],np.shape(movies)[0]))\n",
    "for i in range(np.shape(ratings)[0]):\n",
    "    R[ratings['user_id'][i]-1, ratings['movie_id'][i]-1]=ratings['rating'][i]"
   ]
  },
  {
   "cell_type": "code",
   "execution_count": 3,
   "metadata": {},
   "outputs": [],
   "source": [
    "def CosineDist(a,b):\n",
    "    return a.dot(b)/(np.linalg.norm(a)*np.linalg.norm(b))"
   ]
  },
  {
   "cell_type": "code",
   "execution_count": 4,
   "metadata": {},
   "outputs": [],
   "source": [
    "#again, implementation not efficient: better use lamda opperators \n",
    "D=np.zeros((np.shape(movies)[0],np.shape(movies)[0]))\n",
    "for i in range(0,np.shape(movies)[0]):\n",
    "    for j in range(0,np.shape(movies)[0]):\n",
    "        if i!=j:\n",
    "            D[i,j]=CosineDist(R[:,i],R[:,j])"
   ]
  },
  {
   "cell_type": "code",
   "execution_count": 5,
   "metadata": {},
   "outputs": [],
   "source": [
    "def getTopN(movie_id,N=5):\n",
    "    return D[movie_id,:].argsort()[-N:]\n",
    "\n",
    "def getIDbyName(name):\n",
    "    if np.size(movies.movie_id[movies.title.str.contains(name)]) > 0:\n",
    "        m = int(movies.movie_id[movies.title.str.contains(name)][:1]), str(movies.title[movies.title.str.contains(name)][:1])\n",
    "        return m[0]-1\n",
    "    else:\n",
    "        return -1\n",
    "    \n",
    "def getNameByID(IDs):\n",
    "    res=movies.iloc[IDs]\n",
    "    return res.title\n",
    "\n",
    "def CII(title):\n",
    "    if getIDbyName(title) > 0:\n",
    "        print (\"recommending movies for: '\" + str(getNameByID(getIDbyName(title)))+\"'\")\n",
    "        return getNameByID(getTopN(getIDbyName(title)))[::-1]\n",
    "    else:\n",
    "        print (\"no movie title containing \" + str(title) + \"found...\")\n",
    "        \n",
    "def Score_byID(ID, D, Test):\n",
    "    #print (\"Hit Scores for: \", getNameByID(ID))\n",
    "    res_id = getTopN(ID,D)[::-1]\n",
    "    res_title = getNameByID(getTopN(ID,D))[::-1]\n",
    "    res_score = Test[res_id]\n",
    "    return res_id, res_title, res_score, np.mean(res_score)\n",
    "    \n",
    "#compute scores for all test users\n",
    "def test_Score(D_train, R_test):\n",
    "    userScores=[]\n",
    "    for i in range(R_test.shape[0]):\n",
    "        userScore=0\n",
    "        userTop = np.argsort(R_test[i])[-5:]\n",
    "        for e in userTop:\n",
    "            res_id, res_title, res_score, av_score = Score_byID(e,D_train, R_test[i])\n",
    "            userScore+=av_score\n",
    "        userScores.append(userScore/(5))\n",
    "    return userScores"
   ]
  },
  {
   "cell_type": "markdown",
   "metadata": {},
   "source": [
    "## 4.1 Alternative Distance Measures\n",
    "Implement a different distance measure, e.g. eucledian and compare the ressults."
   ]
  },
  {
   "cell_type": "markdown",
   "metadata": {},
   "source": [
    "## 4.2 Baseline Results\n",
    "Implement and compare results of\n",
    "* random recommendations\n",
    "* allways recommending the top 5 movies (over all users)"
   ]
  },
  {
   "cell_type": "markdown",
   "metadata": {},
   "source": [
    "## 4.3 SVD\n",
    "Implement the SVD approach. Hints: \n",
    "* use numpy.linalg.svd()\n",
    "* apply SVD on $D$\n",
    "* plot the singular values and decide where to cut off the reconstruction\n",
    "* reconstruct and evaluate $D'$\n"
   ]
  },
  {
   "cell_type": "markdown",
   "metadata": {},
   "source": [
    "Aufgabe 4.1\n"
   ]
  },
  {
   "cell_type": "code",
   "execution_count": 23,
   "metadata": {},
   "outputs": [],
   "source": [
    "#Eucledian Distance\n",
    "\n",
    "def EucledianDist(a,b):\n",
    "    return np.linalg.norm(b-a)\n",
    "\n",
    "def CII_EUC(title):\n",
    "    if getIDbyName(title) > 0:\n",
    "        print (\"recommending movies for: '\" + str(getNameByID(getIDbyName(title)))+\"'\")\n",
    "        return getNameByID(getTopN_EUC(getIDbyName(title)))[::-1]\n",
    "    else:\n",
    "        print (\"no movie title containing \" + str(title) + \"found...\")\n",
    "\n",
    "def getTopN_EUC(movie_id,N=5):\n",
    "    return Deuc[movie_id,:].argsort()[-N:]"
   ]
  },
  {
   "cell_type": "code",
   "execution_count": 24,
   "metadata": {},
   "outputs": [
    {
     "name": "stdout",
     "output_type": "stream",
     "text": [
      "recommending movies for: 'Star Wars (1977)'\n"
     ]
    },
    {
     "data": {
      "text/plain": [
       "989              Anna Karenina (1997)\n",
       "1061    Four Days in September (1997)\n",
       "1126          Truman Show, The (1998)\n",
       "937        Smile Like Yours, A (1997)\n",
       "1242               Night Flier (1997)\n",
       "Name: title, dtype: object"
      ]
     },
     "execution_count": 24,
     "metadata": {},
     "output_type": "execute_result"
    }
   ],
   "source": [
    "CII_EUC(\"Star\")"
   ]
  },
  {
   "cell_type": "code",
   "execution_count": 27,
   "metadata": {},
   "outputs": [
    {
     "name": "stdout",
     "output_type": "stream",
     "text": [
      "recommending movies for: 'Star Wars (1977)'\n"
     ]
    },
    {
     "data": {
      "text/plain": [
       "989              Anna Karenina (1997)\n",
       "1061    Four Days in September (1997)\n",
       "1126          Truman Show, The (1998)\n",
       "937        Smile Like Yours, A (1997)\n",
       "1242               Night Flier (1997)\n",
       "Name: title, dtype: object"
      ]
     },
     "execution_count": 27,
     "metadata": {},
     "output_type": "execute_result"
    }
   ],
   "source": [
    "CII(\"Star\")"
   ]
  },
  {
   "cell_type": "code",
   "execution_count": 15,
   "metadata": {},
   "outputs": [],
   "source": [
    "#again, implementation not efficient: better use lamda opperators \n",
    "Deuc=np.zeros((np.shape(movies)[0],np.shape(movies)[0]))\n",
    "for i in range(0,np.shape(movies)[0]):\n",
    "    for j in range(0,np.shape(movies)[0]):\n",
    "        if i!=j:\n",
    "            Deuc[i,j]=EucledianDist(R[:,i],R[:,j])"
   ]
  },
  {
   "cell_type": "code",
   "execution_count": 22,
   "metadata": {},
   "outputs": [],
   "source": [
    "#CII(\"Star\",Deuc)\n",
    "\n",
    "#test = test_Score(Deuc,R)\n",
    "from sklearn.model_selection import train_test_split\n",
    "R_train, R_test = train_test_split(R, test_size=0.1)\n",
    "\n",
    "D_train=np.zeros((np.shape(movies)[0],np.shape(movies)[0]))\n",
    "for i in range(0,np.shape(movies)[0]):\n",
    "    for j in range(0,np.shape(movies)[0]):\n",
    "        if i!=j:\n",
    "            D_train[i,j]=EucledianDist(R_train[:,i],R_train[:,j])"
   ]
  },
  {
   "cell_type": "code",
   "execution_count": 30,
   "metadata": {},
   "outputs": [],
   "source": [
    "def Score_byID_EUC(ID, D, Test):\n",
    "    #print (\"Hit Scores for: \", getNameByID(ID))\n",
    "    res_id = getTopN_EUC(ID,D)[::-1]\n",
    "    res_title = getNameByID(getTopN(ID,D))[::-1]\n",
    "    res_score = Test[res_id]\n",
    "    return res_id, res_title, res_score, np.mean(res_score)\n",
    "    \n",
    "#compute scores for all test users\n",
    "def test_Score(D_train, R_test):\n",
    "    userScores=[]\n",
    "    for i in range(R_test.shape[0]):\n",
    "        userScore=0\n",
    "        userTop = np.argsort(R_test[i])[-5:]\n",
    "        for e in userTop:\n",
    "            res_id, res_title, res_score, av_score = Score_byID_EUC(e,D_train, R_test[i])\n",
    "            userScore+=av_score\n",
    "        userScores.append(userScore/(5))\n",
    "    return userScores"
   ]
  },
  {
   "cell_type": "code",
   "execution_count": 31,
   "metadata": {},
   "outputs": [
    {
     "ename": "TypeError",
     "evalue": "only integer scalar arrays can be converted to a scalar index",
     "output_type": "error",
     "traceback": [
      "\u001b[1;31m---------------------------------------------------------------------------\u001b[0m",
      "\u001b[1;31mTypeError\u001b[0m                                 Traceback (most recent call last)",
      "\u001b[1;32m<ipython-input-31-b4521087ec7a>\u001b[0m in \u001b[0;36m<module>\u001b[1;34m\u001b[0m\n\u001b[1;32m----> 1\u001b[1;33m \u001b[0mtest_res\u001b[0m\u001b[1;33m=\u001b[0m\u001b[0mtest_Score\u001b[0m\u001b[1;33m(\u001b[0m\u001b[0mD_train\u001b[0m\u001b[1;33m,\u001b[0m\u001b[0mR_test\u001b[0m\u001b[1;33m)\u001b[0m\u001b[1;33m\u001b[0m\u001b[1;33m\u001b[0m\u001b[0m\n\u001b[0m",
      "\u001b[1;32m<ipython-input-30-85eacf765130>\u001b[0m in \u001b[0;36mtest_Score\u001b[1;34m(D_train, R_test)\u001b[0m\n\u001b[0;32m     13\u001b[0m         \u001b[0muserTop\u001b[0m \u001b[1;33m=\u001b[0m \u001b[0mnp\u001b[0m\u001b[1;33m.\u001b[0m\u001b[0margsort\u001b[0m\u001b[1;33m(\u001b[0m\u001b[0mR_test\u001b[0m\u001b[1;33m[\u001b[0m\u001b[0mi\u001b[0m\u001b[1;33m]\u001b[0m\u001b[1;33m)\u001b[0m\u001b[1;33m[\u001b[0m\u001b[1;33m-\u001b[0m\u001b[1;36m5\u001b[0m\u001b[1;33m:\u001b[0m\u001b[1;33m]\u001b[0m\u001b[1;33m\u001b[0m\u001b[1;33m\u001b[0m\u001b[0m\n\u001b[0;32m     14\u001b[0m         \u001b[1;32mfor\u001b[0m \u001b[0me\u001b[0m \u001b[1;32min\u001b[0m \u001b[0muserTop\u001b[0m\u001b[1;33m:\u001b[0m\u001b[1;33m\u001b[0m\u001b[1;33m\u001b[0m\u001b[0m\n\u001b[1;32m---> 15\u001b[1;33m             \u001b[0mres_id\u001b[0m\u001b[1;33m,\u001b[0m \u001b[0mres_title\u001b[0m\u001b[1;33m,\u001b[0m \u001b[0mres_score\u001b[0m\u001b[1;33m,\u001b[0m \u001b[0mav_score\u001b[0m \u001b[1;33m=\u001b[0m \u001b[0mScore_byID_EUC\u001b[0m\u001b[1;33m(\u001b[0m\u001b[0me\u001b[0m\u001b[1;33m,\u001b[0m\u001b[0mD_train\u001b[0m\u001b[1;33m,\u001b[0m \u001b[0mR_test\u001b[0m\u001b[1;33m[\u001b[0m\u001b[0mi\u001b[0m\u001b[1;33m]\u001b[0m\u001b[1;33m)\u001b[0m\u001b[1;33m\u001b[0m\u001b[1;33m\u001b[0m\u001b[0m\n\u001b[0m\u001b[0;32m     16\u001b[0m             \u001b[0muserScore\u001b[0m\u001b[1;33m+=\u001b[0m\u001b[0mav_score\u001b[0m\u001b[1;33m\u001b[0m\u001b[1;33m\u001b[0m\u001b[0m\n\u001b[0;32m     17\u001b[0m         \u001b[0muserScores\u001b[0m\u001b[1;33m.\u001b[0m\u001b[0mappend\u001b[0m\u001b[1;33m(\u001b[0m\u001b[0muserScore\u001b[0m\u001b[1;33m/\u001b[0m\u001b[1;33m(\u001b[0m\u001b[1;36m5\u001b[0m\u001b[1;33m)\u001b[0m\u001b[1;33m)\u001b[0m\u001b[1;33m\u001b[0m\u001b[1;33m\u001b[0m\u001b[0m\n",
      "\u001b[1;32m<ipython-input-30-85eacf765130>\u001b[0m in \u001b[0;36mScore_byID_EUC\u001b[1;34m(ID, D, Test)\u001b[0m\n\u001b[0;32m      1\u001b[0m \u001b[1;32mdef\u001b[0m \u001b[0mScore_byID_EUC\u001b[0m\u001b[1;33m(\u001b[0m\u001b[0mID\u001b[0m\u001b[1;33m,\u001b[0m \u001b[0mD\u001b[0m\u001b[1;33m,\u001b[0m \u001b[0mTest\u001b[0m\u001b[1;33m)\u001b[0m\u001b[1;33m:\u001b[0m\u001b[1;33m\u001b[0m\u001b[1;33m\u001b[0m\u001b[0m\n\u001b[0;32m      2\u001b[0m     \u001b[1;31m#print (\"Hit Scores for: \", getNameByID(ID))\u001b[0m\u001b[1;33m\u001b[0m\u001b[1;33m\u001b[0m\u001b[1;33m\u001b[0m\u001b[0m\n\u001b[1;32m----> 3\u001b[1;33m     \u001b[0mres_id\u001b[0m \u001b[1;33m=\u001b[0m \u001b[0mgetTopN_EUC\u001b[0m\u001b[1;33m(\u001b[0m\u001b[0mID\u001b[0m\u001b[1;33m,\u001b[0m\u001b[0mD\u001b[0m\u001b[1;33m)\u001b[0m\u001b[1;33m[\u001b[0m\u001b[1;33m:\u001b[0m\u001b[1;33m:\u001b[0m\u001b[1;33m-\u001b[0m\u001b[1;36m1\u001b[0m\u001b[1;33m]\u001b[0m\u001b[1;33m\u001b[0m\u001b[1;33m\u001b[0m\u001b[0m\n\u001b[0m\u001b[0;32m      4\u001b[0m     \u001b[0mres_title\u001b[0m \u001b[1;33m=\u001b[0m \u001b[0mgetNameByID\u001b[0m\u001b[1;33m(\u001b[0m\u001b[0mgetTopN\u001b[0m\u001b[1;33m(\u001b[0m\u001b[0mID\u001b[0m\u001b[1;33m,\u001b[0m\u001b[0mD\u001b[0m\u001b[1;33m)\u001b[0m\u001b[1;33m)\u001b[0m\u001b[1;33m[\u001b[0m\u001b[1;33m:\u001b[0m\u001b[1;33m:\u001b[0m\u001b[1;33m-\u001b[0m\u001b[1;36m1\u001b[0m\u001b[1;33m]\u001b[0m\u001b[1;33m\u001b[0m\u001b[1;33m\u001b[0m\u001b[0m\n\u001b[0;32m      5\u001b[0m     \u001b[0mres_score\u001b[0m \u001b[1;33m=\u001b[0m \u001b[0mTest\u001b[0m\u001b[1;33m[\u001b[0m\u001b[0mres_id\u001b[0m\u001b[1;33m]\u001b[0m\u001b[1;33m\u001b[0m\u001b[1;33m\u001b[0m\u001b[0m\n",
      "\u001b[1;32m<ipython-input-23-cee4f38a8d7b>\u001b[0m in \u001b[0;36mgetTopN_EUC\u001b[1;34m(movie_id, N)\u001b[0m\n\u001b[0;32m     12\u001b[0m \u001b[1;33m\u001b[0m\u001b[0m\n\u001b[0;32m     13\u001b[0m \u001b[1;32mdef\u001b[0m \u001b[0mgetTopN_EUC\u001b[0m\u001b[1;33m(\u001b[0m\u001b[0mmovie_id\u001b[0m\u001b[1;33m,\u001b[0m\u001b[0mN\u001b[0m\u001b[1;33m=\u001b[0m\u001b[1;36m5\u001b[0m\u001b[1;33m)\u001b[0m\u001b[1;33m:\u001b[0m\u001b[1;33m\u001b[0m\u001b[1;33m\u001b[0m\u001b[0m\n\u001b[1;32m---> 14\u001b[1;33m     \u001b[1;32mreturn\u001b[0m \u001b[0mDeuc\u001b[0m\u001b[1;33m[\u001b[0m\u001b[0mmovie_id\u001b[0m\u001b[1;33m,\u001b[0m\u001b[1;33m:\u001b[0m\u001b[1;33m]\u001b[0m\u001b[1;33m.\u001b[0m\u001b[0margsort\u001b[0m\u001b[1;33m(\u001b[0m\u001b[1;33m)\u001b[0m\u001b[1;33m[\u001b[0m\u001b[1;33m-\u001b[0m\u001b[0mN\u001b[0m\u001b[1;33m:\u001b[0m\u001b[1;33m]\u001b[0m\u001b[1;33m\u001b[0m\u001b[1;33m\u001b[0m\u001b[0m\n\u001b[0m",
      "\u001b[1;31mTypeError\u001b[0m: only integer scalar arrays can be converted to a scalar index"
     ]
    }
   ],
   "source": [
    "test_res=test_Score(D_train,R_test)"
   ]
  },
  {
   "cell_type": "markdown",
   "metadata": {},
   "source": [
    "Aufgabe 4.2"
   ]
  },
  {
   "cell_type": "code",
   "execution_count": 28,
   "metadata": {},
   "outputs": [],
   "source": [
    "#Code"
   ]
  },
  {
   "cell_type": "markdown",
   "metadata": {},
   "source": [
    "Aufgabe 4.3"
   ]
  },
  {
   "cell_type": "code",
   "execution_count": 42,
   "metadata": {},
   "outputs": [
    {
     "data": {
      "text/plain": [
       "array([[ 0.        , 77.72387021, 80.07496488, ..., 84.79976415,\n",
       "        84.68766144, 84.68766144],\n",
       "       [77.72387021,  0.        , 42.17819342, ..., 38.36665219,\n",
       "        38.19685851, 38.19685851],\n",
       "       [80.07496488, 42.17819342,  0.        , ..., 31.0322413 ,\n",
       "        31.11269837, 30.82207001],\n",
       "       ...,\n",
       "       [84.79976415, 38.36665219, 31.0322413 , ...,  0.        ,\n",
       "         3.60555128,  3.60555128],\n",
       "       [84.68766144, 38.19685851, 31.11269837, ...,  3.60555128,\n",
       "         0.        ,  4.24264069],\n",
       "       [84.68766144, 38.19685851, 30.82207001, ...,  3.60555128,\n",
       "         4.24264069,  0.        ]])"
      ]
     },
     "execution_count": 42,
     "metadata": {},
     "output_type": "execute_result"
    }
   ],
   "source": [
    "#Sigulärwertzwerlegung\n",
    "\n",
    "#D anzeigen\n",
    "D"
   ]
  },
  {
   "cell_type": "code",
   "execution_count": 43,
   "metadata": {},
   "outputs": [],
   "source": [
    "U,S,V = np.linalg.svd(D)"
   ]
  },
  {
   "cell_type": "code",
   "execution_count": 44,
   "metadata": {},
   "outputs": [
    {
     "data": {
      "text/plain": [
       "array([[-5.18571807e-02, -7.08005537e-02,  9.17715794e-02, ...,\n",
       "        -6.99545749e-18,  2.42935607e-18, -2.52586915e-18],\n",
       "       [-2.80479420e-02, -1.60941736e-02, -2.74306454e-02, ...,\n",
       "        -1.30539158e-18,  4.33417293e-18, -1.15519596e-17],\n",
       "       [-2.56118900e-02, -4.72224716e-03, -3.04574457e-02, ...,\n",
       "         1.45122623e-18,  1.77640159e-17,  3.90081783e-19],\n",
       "       ...,\n",
       "       [-1.73336019e-02,  3.01606368e-02,  3.32026138e-02, ...,\n",
       "         1.84146217e-16,  2.06503109e-17,  7.08780169e-17],\n",
       "       [-1.74250099e-02,  2.95197984e-02,  2.94185345e-02, ...,\n",
       "         2.18738190e-16, -1.67006855e-16,  1.24997488e-16],\n",
       "       [-1.74271258e-02,  2.95063569e-02,  2.91379629e-02, ...,\n",
       "        -2.71128783e-17,  2.21401874e-16, -2.43918876e-16]])"
      ]
     },
     "execution_count": 44,
     "metadata": {},
     "output_type": "execute_result"
    }
   ],
   "source": [
    "#U anzeigen\n",
    "U"
   ]
  },
  {
   "cell_type": "code",
   "execution_count": 45,
   "metadata": {},
   "outputs": [
    {
     "data": {
      "text/plain": [
       "array([6.24444764e+04, 1.49757280e+04, 1.43608705e+03, ...,\n",
       "       6.16462606e-15, 3.39643907e-15, 2.88355079e-15])"
      ]
     },
     "execution_count": 45,
     "metadata": {},
     "output_type": "execute_result"
    }
   ],
   "source": [
    "#S anzeigen\n",
    "S"
   ]
  },
  {
   "cell_type": "code",
   "execution_count": 46,
   "metadata": {},
   "outputs": [
    {
     "data": {
      "text/plain": [
       "array([[-5.18571807e-02, -2.80479420e-02, -2.56118900e-02, ...,\n",
       "        -1.73336019e-02, -1.74250099e-02, -1.74271258e-02],\n",
       "       [ 7.08005537e-02,  1.60941736e-02,  4.72224716e-03, ...,\n",
       "        -3.01606368e-02, -2.95197984e-02, -2.95063569e-02],\n",
       "       [-9.17715794e-02,  2.74306454e-02,  3.04574457e-02, ...,\n",
       "        -3.32026138e-02, -2.94185345e-02, -2.91379629e-02],\n",
       "       ...,\n",
       "       [ 0.00000000e+00,  5.84403068e-17, -5.06851176e-19, ...,\n",
       "         2.61086746e-16, -3.21476615e-16,  1.36749154e-16],\n",
       "       [ 0.00000000e+00,  3.05623402e-18, -1.23289772e-17, ...,\n",
       "        -1.09935350e-16, -8.94200220e-17, -7.41408087e-17],\n",
       "       [ 0.00000000e+00, -2.96764176e-18, -3.95388555e-18, ...,\n",
       "        -5.73714754e-17, -6.97275597e-17, -2.62671795e-17]])"
      ]
     },
     "execution_count": 46,
     "metadata": {},
     "output_type": "execute_result"
    }
   ],
   "source": [
    "#V anzeigen\n",
    "V"
   ]
  },
  {
   "cell_type": "code",
   "execution_count": null,
   "metadata": {},
   "outputs": [],
   "source": []
  }
 ],
 "metadata": {
  "kernelspec": {
   "display_name": "Python 3",
   "language": "python",
   "name": "python3"
  },
  "language_info": {
   "codemirror_mode": {
    "name": "ipython",
    "version": 3
   },
   "file_extension": ".py",
   "mimetype": "text/x-python",
   "name": "python",
   "nbconvert_exporter": "python",
   "pygments_lexer": "ipython3",
   "version": "3.8.5"
  }
 },
 "nbformat": 4,
 "nbformat_minor": 4
}
