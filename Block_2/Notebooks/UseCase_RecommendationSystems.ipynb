{
 "cells": [
  {
   "cell_type": "markdown",
   "metadata": {
    "slideshow": {
     "slide_type": "slide"
    }
   },
   "source": [
    "## Ein Recommender System für Filme\n",
    "* Collaborativer Item-Item Filter\n",
    "* Szenario:\n",
    "    * <font color=green>Eingabe:</font> ein Film (den der User gerade gesehen hat)\n",
    "    * <font color=blue>Ausgabe:</font> Liste von Filmen die als nächstes geschaut werden könnten\n",
    "<BR>    \n",
    "<font color=red>\"User die diesen Film gesehen haben, sahen auch ...\"</font>"
   ]
  },
  {
   "cell_type": "markdown",
   "metadata": {
    "slideshow": {
     "slide_type": "slide"
    }
   },
   "source": [
    "### Daten: freie Datenbank mit Filmbewertungen: http://www.movielens.org/\n",
    "* 943 User, 1682 Filme und 100000 Bewertungen\n",
    "* Download als CSV Datei\n",
    "<img src=\"IMG/movielens.png\" width=75%>"
   ]
  },
  {
   "cell_type": "markdown",
   "metadata": {
    "slideshow": {
     "slide_type": "subslide"
    }
   },
   "source": [
    "### Movielens Datenstrukturen\n",
    "* Relationale Datendank mit drei Tabellen [users, ratings, movies]\n",
    "<img src=\"IMG/mtable.png\" width=75%>"
   ]
  },
  {
   "cell_type": "markdown",
   "metadata": {
    "slideshow": {
     "slide_type": "subslide"
    }
   },
   "source": [
    "### Datenimport:"
   ]
  },
  {
   "cell_type": "code",
   "execution_count": 1,
   "metadata": {
    "slideshow": {
     "slide_type": "-"
    }
   },
   "outputs": [],
   "source": [
    "#read data to DataFrames\n",
    "import pandas as pd\n",
    "u_cols = ['user_id', 'age', 'sex', 'occupation', 'zip_code']\n",
    "users = pd.read_csv('../../DATA/movielens100k/u.user', sep='|', names=u_cols, encoding = \"ISO-8859-1\")\n",
    "\n",
    "r_cols = ['user_id', 'movie_id', 'rating', 'timestamp']\n",
    "ratings = pd.read_csv('../../DATA/movielens100k/u.data', sep='\\t', names=r_cols, encoding = \"ISO-8859-1\")\n",
    "\n",
    "m_cols=['movie_id', 'title', 'release date', 'video release date', 'IMDb_URL', 'unknown', 'Action', 'Adventure', 'Animation', 'Childrens', 'Comedy', 'Crime', 'Documentary', 'Drama', 'Fantasy', 'Film-Noir', 'Horror', 'Musical', 'Mystery', 'Romance', 'Sci-Fi', 'Thriller', 'War', 'Western']\n",
    "movies = pd.read_csv('../../DATA/movielens100k/u.item', sep='|', names=m_cols ,encoding = \"ISO-8859-1\" )\n"
   ]
  },
  {
   "cell_type": "markdown",
   "metadata": {
    "slideshow": {
     "slide_type": "subslide"
    }
   },
   "source": [
    "### Dann schauen wir uns die Daten doch mal an ..."
   ]
  },
  {
   "cell_type": "code",
   "execution_count": 2,
   "metadata": {
    "slideshow": {
     "slide_type": "-"
    }
   },
   "outputs": [
    {
     "name": "stdout",
     "output_type": "stream",
     "text": [
      "(943, 5) (100000, 4) (1682, 24)\n",
      "   user_id  movie_id  rating  timestamp\n",
      "1      186       302       3  891717742\n",
      "2       22       377       1  878887116\n",
      "3      244        51       2  880606923\n",
      "4      166       346       1  886397596\n",
      "5      298       474       4  884182806\n",
      "6      115       265       2  881171488\n",
      "7      253       465       5  891628467\n",
      "8      305       451       3  886324817\n",
      "9        6        86       3  883603013\n",
      "hello\n"
     ]
    }
   ],
   "source": [
    "import numpy as np\n",
    "print (np.shape(users), np.shape(ratings), np.shape(movies))\n",
    "print (ratings[1:10])\n",
    "print (\"hello\")"
   ]
  },
  {
   "cell_type": "code",
   "execution_count": 3,
   "metadata": {
    "scrolled": true,
    "slideshow": {
     "slide_type": "subslide"
    }
   },
   "outputs": [
    {
     "data": {
      "image/png": "[encoded data removed]",
      "text/plain": [
       "<Figure size 432x288 with 1 Axes>"
      ]
     },
     "metadata": {
      "needs_background": "light"
     },
     "output_type": "display_data"
    }
   ],
   "source": [
    "#schauen wir uns mal die die Verteilung der ratings an\n",
    "import matplotlib.pyplot as plt\n",
    "%matplotlib inline\n",
    "res=plt.hist(ratings['rating'],[1,2,3,4,5,6])"
   ]
  },
  {
   "cell_type": "code",
   "execution_count": 4,
   "metadata": {
    "scrolled": true,
    "slideshow": {
     "slide_type": "subslide"
    }
   },
   "outputs": [
    {
     "data": {
      "image/png": "[encoded data removed]",
      "text/plain": [
       "<Figure size 432x288 with 1 Axes>"
      ]
     },
     "metadata": {
      "needs_background": "light"
     },
     "output_type": "display_data"
    }
   ],
   "source": [
    "#wie viele Bewertungen geben user ab?\n",
    "res=plt.hist(ratings['user_id'],943)"
   ]
  },
  {
   "cell_type": "code",
   "execution_count": 5,
   "metadata": {
    "slideshow": {
     "slide_type": "subslide"
    }
   },
   "outputs": [
    {
     "data": {
      "image/png": "[encoded data removed]",
      "text/plain": [
       "<Figure size 432x288 with 1 Axes>"
      ]
     },
     "metadata": {
      "needs_background": "light"
     },
     "output_type": "display_data"
    }
   ],
   "source": [
    "#wie oft werden Filme bewertet?\n",
    "res=plt.hist(ratings['movie_id'],1682)"
   ]
  },
  {
   "cell_type": "markdown",
   "metadata": {
    "slideshow": {
     "slide_type": "slide"
    }
   },
   "source": [
    "# Formalisierung: ein Item-Item Collaborative Filter"
   ]
  },
  {
   "cell_type": "markdown",
   "metadata": {
    "slideshow": {
     "slide_type": "fragment"
    }
   },
   "source": [
    "* User: $U := \\{u_1, \\dots, u_n\\}, |U|=n$ <BR><BR>\n",
    "* Filme (Produkte): $P := \\{p_1, \\dots, p_m\\}, |P|=m$ <BR><BR>\n",
    "* Kontext: Matrix $R$ der Größe $n\\times m$<BR> mit Bewertungen $r_{ij},$ mit $ i\\in 1\\dots n, j\\in 1\\dots m$\n"
   ]
  },
  {
   "cell_type": "code",
   "execution_count": 6,
   "metadata": {
    "slideshow": {
     "slide_type": "fragment"
    }
   },
   "outputs": [],
   "source": [
    "#gerate matrix (this can be done more efficiently!)\n",
    "R=np.zeros((np.shape(users)[0],np.shape(movies)[0]))\n",
    "for i in range(np.shape(ratings)[0]):\n",
    "    R[ratings['user_id'][i]-1, ratings['movie_id'][i]-1]=ratings['rating'][i]"
   ]
  },
  {
   "cell_type": "markdown",
   "metadata": {
    "slideshow": {
     "slide_type": "subslide"
    }
   },
   "source": [
    "### Plot $R$"
   ]
  },
  {
   "cell_type": "code",
   "execution_count": 7,
   "metadata": {
    "scrolled": true
   },
   "outputs": [
    {
     "data": {
      "text/plain": [
       "<matplotlib.colorbar.Colorbar at 0x28a575eb3d0>"
      ]
     },
     "execution_count": 7,
     "metadata": {},
     "output_type": "execute_result"
    },
    {
     "data": {
      "image/png": "[encoded data removed]",
      "text/plain": [
       "<Figure size 1027.39x576 with 2 Axes>"
      ]
     },
     "metadata": {
      "needs_background": "light"
     },
     "output_type": "display_data"
    }
   ],
   "source": [
    "plt.rcParams['figure.figsize'] = (10.0, 8.0)\n",
    "#show matrix    \n",
    "plt.matshow(R)\n",
    "plt.xlabel('Film ID')\n",
    "plt.ylabel('User ID')\n",
    "plt.colorbar()\n"
   ]
  },
  {
   "cell_type": "markdown",
   "metadata": {
    "slideshow": {
     "slide_type": "slide"
    }
   },
   "source": [
    "## Distanzmaße \n",
    "<br>\n",
    "In $R$ sind alle \n",
    "* Bewertungen des $i$-ten Films im $i$-ten Spaltenvektor abgelegt\n",
    "* Bewertungen des $j$-ten Users im $j$-ten Zeilenvektor abgelegt \n",
    "<BR><BR>"
   ]
  },
  {
   "cell_type": "markdown",
   "metadata": {
    "slideshow": {
     "slide_type": "slide"
    }
   },
   "source": [
    "### Filmbewertungen := Spaltenvektoren in der Kontext Matrix $R$\n",
    "<img src=\"IMG/R.png\">\n"
   ]
  },
  {
   "cell_type": "markdown",
   "metadata": {
    "slideshow": {
     "slide_type": "subslide"
    }
   },
   "source": [
    "### Items: Kosinus-Distanz:\n",
    "Für Filmbewertungen := Spaltenvektoren $\\vec{a},\\vec{b}$ in $R$ gilt die Distanz:<BR><BR>\n",
    "$d_{cos}(\\vec{a},\\vec{b}) := { <\\vec{a},\\vec{b}> \\over |\\vec{a}||\\vec{b}|}$ <BR><BR>\n",
    "* mit den Skalarprodukt $ <\\vec{a},\\vec{b}>$<BR>\n",
    "* und der Vektornorm $|\\vec{a}|$<BR>\n",
    "* mit dem Wertebereich  zwischen $0$ (keine Ähnlichkeit) und $1$ (Identisch)<BR>\n"
   ]
  },
  {
   "cell_type": "code",
   "execution_count": 8,
   "metadata": {
    "slideshow": {
     "slide_type": "fragment"
    }
   },
   "outputs": [],
   "source": [
    " def CosineDist(a,b):\n",
    "    res =  a.dot(b)\n",
    "    norm = np.linalg.norm(a)*np.linalg.norm(b)\n",
    "    if norm > 0: #norm ist null wenn keine Berwerung existiert -> Fallunterscheidung\n",
    "        return res/norm\n",
    "    else:\n",
    "        return res"
   ]
  },
  {
   "cell_type": "markdown",
   "metadata": {
    "slideshow": {
     "slide_type": "subslide"
    }
   },
   "source": [
    "### Erstelle Kosinus-Distanz Matrix für alle Filme (offline)"
   ]
  },
  {
   "cell_type": "code",
   "execution_count": null,
   "metadata": {},
   "outputs": [],
   "source": [
    "#again, implementation not efficient: better use lamda opperators (later in this course)\n",
    "D=np.zeros((np.shape(movies)[0],np.shape(movies)[0]))\n",
    "for i in range(0,np.shape(movies)[0]):\n",
    "    for j in range(0,np.shape(movies)[0]):\n",
    "        if i!=j:\n",
    "            D[i,j]=CosineDist(R[:,i],R[:,j])"
   ]
  },
  {
   "cell_type": "code",
   "execution_count": null,
   "metadata": {},
   "outputs": [],
   "source": [
    "np.save(\"movie_dist\",D)"
   ]
  },
  {
   "cell_type": "code",
   "execution_count": null,
   "metadata": {
    "scrolled": true,
    "slideshow": {
     "slide_type": "fragment"
    }
   },
   "outputs": [],
   "source": [
    "plt.rcParams['figure.figsize'] = (10.0, 8.0)\n",
    "plt.matshow(D)\n",
    "plt.colorbar() "
   ]
  },
  {
   "cell_type": "markdown",
   "metadata": {
    "slideshow": {
     "slide_type": "slide"
    }
   },
   "source": [
    "### Anfragen an die Distanz-Matrix\n",
    "* Suche die Top-5 ähnlichsten Filme \n",
    "* argmax auf Spalten / Zeilen von $D$\n",
    "<img src=\"IMG/D.png\" width=\"200\">"
   ]
  },
  {
   "cell_type": "code",
   "execution_count": null,
   "metadata": {
    "slideshow": {
     "slide_type": "fragment"
    }
   },
   "outputs": [],
   "source": [
    "def getTopN(movie_id,D, N=5):\n",
    "    return D[movie_id,:].argsort()[-N:]\n"
   ]
  },
  {
   "cell_type": "markdown",
   "metadata": {
    "slideshow": {
     "slide_type": "subslide"
    }
   },
   "source": [
    "### Hilfsfunktionen"
   ]
  },
  {
   "cell_type": "code",
   "execution_count": null,
   "metadata": {
    "slideshow": {
     "slide_type": "-"
    }
   },
   "outputs": [],
   "source": [
    "def getIDbyName(name):\n",
    "    if np.size(movies.movie_id[movies.title.str.contains(name)]) > 0:\n",
    "        m = int(movies.movie_id[movies.title.str.contains(name)][:1]), str(movies.title[movies.title.str.contains(name)][:1])\n",
    "        return m[0]-1\n",
    "    else:\n",
    "        return -1\n",
    "    \n",
    "def getNameByID(IDs):\n",
    "    res=movies.iloc[IDs]\n",
    "    return res.title"
   ]
  },
  {
   "cell_type": "markdown",
   "metadata": {
    "slideshow": {
     "slide_type": "slide"
    }
   },
   "source": [
    "## Implementierung Collaborative Item-Item Filter"
   ]
  },
  {
   "cell_type": "code",
   "execution_count": null,
   "metadata": {},
   "outputs": [],
   "source": [
    "def CII(title, D):\n",
    "    if getIDbyName(title) > 0:\n",
    "        print (\"recommending movies for: '\" + str(getNameByID(getIDbyName(title)))+\"'\")\n",
    "        return getNameByID(getTopN(getIDbyName(title),D))[::-1]\n",
    "    else:\n",
    "        print (\"no movie title containing \" + str(title) + \"found...\")\n",
    "        "
   ]
  },
  {
   "cell_type": "code",
   "execution_count": null,
   "metadata": {
    "scrolled": true,
    "slideshow": {
     "slide_type": "fragment"
    }
   },
   "outputs": [],
   "source": [
    "CII(\"Star WARS\",D)"
   ]
  },
  {
   "cell_type": "code",
   "execution_count": null,
   "metadata": {
    "slideshow": {
     "slide_type": "subslide"
    }
   },
   "outputs": [],
   "source": [
    "#wie oft kommt ein Film (per ID) in der DB for\n",
    "id=180\n",
    "print(movies.title[id])\n",
    "np.sum(ratings.movie_id==id)"
   ]
  },
  {
   "cell_type": "markdown",
   "metadata": {
    "slideshow": {
     "slide_type": "slide"
    }
   },
   "source": [
    "## Quallitätsicherung - wie gut ist unser System objekitv?"
   ]
  },
  {
   "cell_type": "code",
   "execution_count": null,
   "metadata": {
    "slideshow": {
     "slide_type": "subslide"
    }
   },
   "outputs": [],
   "source": [
    "#split into train and test data\n",
    "from sklearn.model_selection import train_test_split\n",
    "R_train, R_test = train_test_split(R, test_size=0.1)\n",
    "plt.matshow(R_test)\n",
    "plt.xlabel('Film ID')\n",
    "plt.ylabel('User ID')\n",
    "plt.colorbar()"
   ]
  },
  {
   "cell_type": "code",
   "execution_count": null,
   "metadata": {
    "slideshow": {
     "slide_type": "subslide"
    }
   },
   "outputs": [],
   "source": [
    "#again, implementation not efficient: better use lamda opperators (later in this course)\n",
    "D_train=np.zeros((np.shape(movies)[0],np.shape(movies)[0]))\n",
    "for i in range(0,np.shape(movies)[0]):\n",
    "    for j in range(0,np.shape(movies)[0]):\n",
    "        if i!=j:\n",
    "            D_train[i,j]=CosineDist(R_train[:,i],R_train[:,j])"
   ]
  },
  {
   "cell_type": "code",
   "execution_count": null,
   "metadata": {
    "slideshow": {
     "slide_type": "subslide"
    }
   },
   "outputs": [],
   "source": [
    "plt.rcParams['figure.figsize'] = (10.0, 8.0)\n",
    "plt.matshow(D_train)\n",
    "plt.colorbar() "
   ]
  },
  {
   "cell_type": "code",
   "execution_count": null,
   "metadata": {
    "slideshow": {
     "slide_type": "subslide"
    }
   },
   "outputs": [],
   "source": [
    "#Anfrage auf dem Trainingsdatensatz\n",
    "CII(\"Star\",D_train)"
   ]
  },
  {
   "cell_type": "code",
   "execution_count": null,
   "metadata": {
    "slideshow": {
     "slide_type": "subslide"
    }
   },
   "outputs": [],
   "source": [
    "#get top 5 ids from random test user 23\n",
    "np.argsort(R_test[23])[-5:]"
   ]
  },
  {
   "cell_type": "code",
   "execution_count": 22,
   "metadata": {
    "slideshow": {
     "slide_type": "subslide"
    }
   },
   "outputs": [],
   "source": [
    "def Score_byID(ID, D, Test):\n",
    "    #print (\"Hit Scores for: \", getNameByID(ID))\n",
    "    res_id = getTopN(ID,D)[::-1]\n",
    "    res_title = getNameByID(getTopN(ID,D))[::-1]\n",
    "    res_score = Test[res_id]\n",
    "    return res_id, res_title, res_score, np.mean(res_score)\n",
    "    "
   ]
  },
  {
   "cell_type": "code",
   "execution_count": null,
   "metadata": {
    "slideshow": {
     "slide_type": "fragment"
    }
   },
   "outputs": [],
   "source": [
    "Score_byID(326,D_train, R_test[23])"
   ]
  },
  {
   "cell_type": "code",
   "execution_count": null,
   "metadata": {
    "slideshow": {
     "slide_type": "subslide"
    }
   },
   "outputs": [],
   "source": [
    "#compute scores for all test users\n",
    "def test_Score(D_train, R_test):\n",
    "    userScores=[]\n",
    "    for i in range(R_test.shape[0]):\n",
    "        userScore=0\n",
    "        userTop = np.argsort(R_test[i])[-5:]\n",
    "        for e in userTop:\n",
    "            res_id, res_title, res_score, av_score = Score_byID(e,D_train, R_test[i])\n",
    "            userScore+=av_score\n",
    "        userScores.append(userScore/(5))\n",
    "    return userScores"
   ]
  },
  {
   "cell_type": "code",
   "execution_count": null,
   "metadata": {
    "slideshow": {
     "slide_type": "fragment"
    }
   },
   "outputs": [],
   "source": [
    "test_res=test_Score(D_train,R_test)"
   ]
  },
  {
   "cell_type": "code",
   "execution_count": null,
   "metadata": {
    "slideshow": {
     "slide_type": "subslide"
    }
   },
   "outputs": [],
   "source": [
    "plt.hist(test_res)"
   ]
  },
  {
   "cell_type": "code",
   "execution_count": 27,
   "metadata": {
    "slideshow": {
     "slide_type": "slide"
    }
   },
   "outputs": [
    {
     "data": {
      "text/plain": [
       "2.064842105263158"
      ]
     },
     "execution_count": 27,
     "metadata": {},
     "output_type": "execute_result"
    }
   ],
   "source": [
    "np.mean(test_res)"
   ]
  },
  {
   "cell_type": "code",
   "execution_count": null,
   "metadata": {},
   "outputs": [],
   "source": []
  }
 ],
 "metadata": {
  "anaconda-cloud": {},
  "celltoolbar": "Slideshow",
  "kernelspec": {
   "display_name": "Python 3",
   "language": "python",
   "name": "python3"
  },
  "language_info": {
   "codemirror_mode": {
    "name": "ipython",
    "version": 3
   },
   "file_extension": ".py",
   "mimetype": "text/x-python",
   "name": "python",
   "nbconvert_exporter": "python",
   "pygments_lexer": "ipython3",
   "version": "3.8.5"
  },
  "livereveal": {
   "enable_chalkboard": true,
   "footer": "Janis Keuper - SS21",
   "header": "Data Science: Block 2"
  }
 },
 "nbformat": 4,
 "nbformat_minor": 4
}
