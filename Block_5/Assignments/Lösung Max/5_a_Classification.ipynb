{
 "cells": [
  {
   "cell_type": "markdown",
   "metadata": {},
   "source": [
    "# Block 5 Exercise 1: Classification"
   ]
  },
  {
   "cell_type": "markdown",
   "metadata": {},
   "source": [
    "## MNIST Data\n",
    "In these exercises we are using the MNIST data set on handwritten digits to compare supervised classification algorithms...   "
   ]
  },
  {
   "cell_type": "code",
   "execution_count": 1,
   "metadata": {},
   "outputs": [],
   "source": [
    "#imports \n",
    "import matplotlib.pyplot as plt\n",
    "import numpy as np\n",
    "from sklearn.datasets import fetch_openml"
   ]
  },
  {
   "cell_type": "code",
   "execution_count": 2,
   "metadata": {},
   "outputs": [],
   "source": [
    "# Load data from https://www.openml.org/d/554\n",
    "X, y = fetch_openml('mnist_784', version=1, return_X_y=True)\n"
   ]
  },
  {
   "cell_type": "code",
   "execution_count": 3,
   "metadata": {},
   "outputs": [
    {
     "data": {
      "text/plain": [
       "(70000, 784)"
      ]
     },
     "execution_count": 3,
     "metadata": {},
     "output_type": "execute_result"
    }
   ],
   "source": [
    "#the full MNIST data set contains 70k samples of digits 0-9 as 28*28 gray scale images (represented as 784 dim vectors)\n",
    "np.shape(X)"
   ]
  },
  {
   "cell_type": "markdown",
   "metadata": {},
   "source": [
    "### E1.1: Use SkLearn methods to split the MNIST data into random train and test sets. Use 60k samples for training.  \n"
   ]
  },
  {
   "cell_type": "code",
   "execution_count": 4,
   "metadata": {},
   "outputs": [],
   "source": [
    "from sklearn.model_selection import train_test_split\n",
    "X_train, X_test, y_train, y_test = train_test_split(X, y, test_size=0.14)  #70k = 100 %   60k = 85,7%"
   ]
  },
  {
   "cell_type": "markdown",
   "metadata": {},
   "source": [
    "### E1.2: Visualize the data.\n",
    "* Plot some data samples as images (use https://matplotlib.org/3.1.0/api/_as_gen/matplotlib.pyplot.imshow.html)"
   ]
  },
  {
   "cell_type": "code",
   "execution_count": 5,
   "metadata": {},
   "outputs": [
    {
     "data": {
      "text/plain": [
       "<matplotlib.image.AxesImage at 0x1f3eee63400>"
      ]
     },
     "execution_count": 5,
     "metadata": {},
     "output_type": "execute_result"
    },
    {
     "data": {
      "image/png": "[encoded data removed]",
      "text/plain": [
       "<Figure size 432x288 with 1 Axes>"
      ]
     },
     "metadata": {
      "needs_background": "light"
     },
     "output_type": "display_data"
    }
   ],
   "source": [
    "import matplotlib.pyplot as plt\n",
    "plt.imshow(np.reshape(X_train[620,:],(28,28)))"
   ]
  },
  {
   "cell_type": "markdown",
   "metadata": {},
   "source": [
    "### E1.3: Train models on the train data.\n",
    "Train the following models with default parameters on the train data.\n",
    "* [Naive Bayes](https://scikit-learn.org/stable/modules/generated/sklearn.naive_bayes.GaussianNB.html#sklearn.naive_bayes.GaussianNB) (assuming a Gaussian distribution of the data)\n",
    "* [Simple linear model](https://scikit-learn.org/stable/modules/generated/sklearn.linear_model.SGDClassifier.html#sklearn.linear_model.SGDClassifier)\n",
    "   * use ``loss='log'`` to reproduce our logistic loss function \n",
    "* [Random Forest](https://scikit-learn.org/stable/modules/generated/sklearn.ensemble.RandomForestClassifier.html#sklearn.ensemble.RandomForestClassifier)\n",
    "\n",
    "Compare the training accuracy (https://scikit-learn.org/stable/modules/generated/sklearn.metrics.accuracy_score.html#sklearn.metrics.accuracy_score) and [confusion matrix](https://scikit-learn.org/stable/modules/generated/sklearn.metrics.confusion_matrix.html#sklearn.metrics.confusion_matrix) for all three models."
   ]
  },
  {
   "cell_type": "code",
   "execution_count": 6,
   "metadata": {},
   "outputs": [],
   "source": [
    "#---------INIT----------#\n",
    "from sklearn.naive_bayes import GaussianNB\n",
    "from sklearn import linear_model\n",
    "from sklearn.ensemble import RandomForestClassifier\n",
    "from sklearn.metrics import accuracy_score\n",
    "from sklearn.metrics import confusion_matrix\n",
    "\n",
    "bay=GaussianNB()\n",
    "lin=linear_model.SGDClassifier(loss='log', max_iter=60)\n",
    "rfc=RandomForestClassifier()"
   ]
  },
  {
   "cell_type": "code",
   "execution_count": 7,
   "metadata": {},
   "outputs": [
    {
     "data": {
      "text/plain": [
       "GaussianNB()"
      ]
     },
     "execution_count": 7,
     "metadata": {},
     "output_type": "execute_result"
    }
   ],
   "source": [
    "#Bay\n",
    "bay.fit(X_train,y_train)"
   ]
  },
  {
   "cell_type": "code",
   "execution_count": 8,
   "metadata": {},
   "outputs": [
    {
     "name": "stderr",
     "output_type": "stream",
     "text": [
      "C:\\Users\\sauer\\anaconda3\\lib\\site-packages\\sklearn\\linear_model\\_stochastic_gradient.py:570: ConvergenceWarning: Maximum number of iteration reached before convergence. Consider increasing max_iter to improve the fit.\n",
      "  warnings.warn(\"Maximum number of iteration reached before \"\n"
     ]
    },
    {
     "data": {
      "text/plain": [
       "SGDClassifier(loss='log', max_iter=60)"
      ]
     },
     "execution_count": 8,
     "metadata": {},
     "output_type": "execute_result"
    }
   ],
   "source": [
    "#lin\n",
    "lin.fit(X_train,y_train)"
   ]
  },
  {
   "cell_type": "code",
   "execution_count": 9,
   "metadata": {},
   "outputs": [
    {
     "data": {
      "text/plain": [
       "RandomForestClassifier()"
      ]
     },
     "execution_count": 9,
     "metadata": {},
     "output_type": "execute_result"
    }
   ],
   "source": [
    "#rfc\n",
    "rfc.fit(X_train,y_train)"
   ]
  },
  {
   "cell_type": "markdown",
   "metadata": {},
   "source": [
    "## ACCURACY"
   ]
  },
  {
   "cell_type": "code",
   "execution_count": 10,
   "metadata": {},
   "outputs": [
    {
     "data": {
      "text/plain": [
       "0.560939550490872"
      ]
     },
     "execution_count": 10,
     "metadata": {},
     "output_type": "execute_result"
    }
   ],
   "source": [
    "#Bay\n",
    "accuracy_score(y_train, bay.predict(X_train))"
   ]
  },
  {
   "cell_type": "code",
   "execution_count": 11,
   "metadata": {},
   "outputs": [
    {
     "data": {
      "text/plain": [
       "array([[5479,   13,   29,   16,   10,   11,  146,    5,  145,   95],\n",
       "       [   3, 6395,   15,   25,    3,    8,   76,    2,  153,   69],\n",
       "       [ 668,  162, 1706,  438,   28,   12, 1516,   17, 1375,   89],\n",
       "       [ 491,  317,   53, 2181,   16,    4,  295,   57, 2097,  649],\n",
       "       [ 194,   46,   42,   30,  997,   26,  533,   40, 1147, 2826],\n",
       "       [ 772,  145,   31,  120,   33,  203,  285,   16, 3262,  584],\n",
       "       [  68,  108,   26,    3,    5,   21, 5508,    0,  116,    8],\n",
       "       [  29,   48,    7,   56,   50,    5,   19, 2047,  173, 3872],\n",
       "       [ 108,  776,   25,   42,   25,   29,  100,   10, 3601, 1133],\n",
       "       [  37,   41,   17,    7,   37,    2,    2,   83,  103, 5651]],\n",
       "      dtype=int64)"
      ]
     },
     "execution_count": 11,
     "metadata": {},
     "output_type": "execute_result"
    }
   ],
   "source": [
    "confusion_matrix(y_train, bay.predict(X_train))"
   ]
  },
  {
   "cell_type": "code",
   "execution_count": 12,
   "metadata": {},
   "outputs": [
    {
     "data": {
      "text/plain": [
       "0.8676057741822953"
      ]
     },
     "execution_count": 12,
     "metadata": {},
     "output_type": "execute_result"
    }
   ],
   "source": [
    "#lin\n",
    "accuracy_score(y_train, lin.predict(X_train))"
   ]
  },
  {
   "cell_type": "code",
   "execution_count": 13,
   "metadata": {},
   "outputs": [
    {
     "data": {
      "text/plain": [
       "array([[5808,    1,   57,    2,    2,   29,    6,    4,   35,    5],\n",
       "       [   1, 6557,   91,    2,    7,   11,    4,   10,   59,    7],\n",
       "       [  30,   20, 5773,    9,   18,    8,   27,   37,   74,   15],\n",
       "       [  56,   30,  909, 3994,    6,  809,    9,   62,  214,   71],\n",
       "       [  23,   21,  446,   16, 4799,   51,   14,   77,  170,  264],\n",
       "       [  43,   27,  206,   39,   35, 4763,   65,   24,  194,   55],\n",
       "       [  70,   16,  362,    1,   15,  125, 5206,   11,   55,    2],\n",
       "       [  12,   14,  201,   13,   38,    9,    1, 5873,   40,  105],\n",
       "       [  47,  119,  541,   29,   20,  282,   23,   31, 4714,   43],\n",
       "       [  32,   25,  202,   30,  133,  137,    0,  422,  257, 4742]],\n",
       "      dtype=int64)"
      ]
     },
     "execution_count": 13,
     "metadata": {},
     "output_type": "execute_result"
    }
   ],
   "source": [
    "confusion_matrix(y_train, lin.predict(X_train))"
   ]
  },
  {
   "cell_type": "code",
   "execution_count": 14,
   "metadata": {},
   "outputs": [
    {
     "data": {
      "text/plain": [
       "1.0"
      ]
     },
     "execution_count": 14,
     "metadata": {},
     "output_type": "execute_result"
    }
   ],
   "source": [
    "#rfc\n",
    "accuracy_score(y_train, rfc.predict(X_train))"
   ]
  },
  {
   "cell_type": "code",
   "execution_count": 15,
   "metadata": {},
   "outputs": [
    {
     "data": {
      "text/plain": [
       "array([[5949,    0,    0,    0,    0,    0,    0,    0,    0,    0],\n",
       "       [   0, 6749,    0,    0,    0,    0,    0,    0,    0,    0],\n",
       "       [   0,    0, 6011,    0,    0,    0,    0,    0,    0,    0],\n",
       "       [   0,    0,    0, 6160,    0,    0,    0,    0,    0,    0],\n",
       "       [   0,    0,    0,    0, 5881,    0,    0,    0,    0,    0],\n",
       "       [   0,    0,    0,    0,    0, 5451,    0,    0,    0,    0],\n",
       "       [   0,    0,    0,    0,    0,    0, 5863,    0,    0,    0],\n",
       "       [   0,    0,    0,    0,    0,    0,    0, 6306,    0,    0],\n",
       "       [   0,    0,    0,    0,    0,    0,    0,    0, 5849,    0],\n",
       "       [   0,    0,    0,    0,    0,    0,    0,    0,    0, 5980]],\n",
       "      dtype=int64)"
      ]
     },
     "execution_count": 15,
     "metadata": {},
     "output_type": "execute_result"
    }
   ],
   "source": [
    "confusion_matrix(y_train, rfc.predict(X_train))"
   ]
  },
  {
   "cell_type": "markdown",
   "metadata": {},
   "source": [
    "### E1.4: Evaluate and compare the models on the test set.\n",
    "* compute the test [accuracy](https://scikit-learn.org/stable/modules/generated/sklearn.metrics.accuracy_score.html#sklearn.metrics.accuracy_score) \n",
    "* compute the [F-Measure](https://scikit-learn.org/stable/modules/generated/sklearn.metrics.f1_score.html#sklearn.metrics.f1_score)\n",
    "* plot a [ROC curves](https://scikit-learn.org/stable/modules/generated/sklearn.metrics.roc_curve.html#sklearn.metrics.roc_curve) for the class \"5\" for all three models.\n",
    "                          "
   ]
  },
  {
   "cell_type": "code",
   "execution_count": 16,
   "metadata": {},
   "outputs": [],
   "source": [
    "#import\n",
    "from sklearn.metrics import f1_score"
   ]
  },
  {
   "cell_type": "code",
   "execution_count": 17,
   "metadata": {},
   "outputs": [
    {
     "name": "stdout",
     "output_type": "stream",
     "text": [
      "bayes-train-acc: 0.560939550490872\n",
      "bayes-test-acc: 0.5616773798591981\n",
      "bayes-f1: 0.5616773798591981\n"
     ]
    }
   ],
   "source": [
    "#BAYES\n",
    "bayes_acc_train=accuracy_score(y_train,bay.predict(X_train))\n",
    "bayes_acc_test = accuracy_score(y_test, bay.predict(X_test))\n",
    "bayes_f1 = f1_score(y_test, bay.predict(X_test), average='micro')\n",
    "print(\"bayes-train-acc:\",bayes_acc_train)\n",
    "print(\"bayes-test-acc:\",bayes_acc_test)\n",
    "print(\"bayes-f1:\",bayes_f1)"
   ]
  },
  {
   "cell_type": "code",
   "execution_count": 18,
   "metadata": {},
   "outputs": [
    {
     "name": "stdout",
     "output_type": "stream",
     "text": [
      "lin-train-acc: 0.8676057741822953\n",
      "lin-test-acc: 0.8580757065605551\n",
      "lin-f1-acc: 0.8580757065605551\n"
     ]
    }
   ],
   "source": [
    "#LIN\n",
    "lin_acc_train = accuracy_score(y_train, lin.predict(X_train))\n",
    "lin_acc_test = accuracy_score(y_test, lin.predict(X_test))\n",
    "lin_f1 = f1_score(y_test, lin.predict(X_test), average='micro')\n",
    "print(\"lin-train-acc:\", lin_acc_train)\n",
    "print(\"lin-test-acc:\", lin_acc_test)\n",
    "print(\"lin-f1-acc:\", lin_f1)"
   ]
  },
  {
   "cell_type": "code",
   "execution_count": 19,
   "metadata": {},
   "outputs": [
    {
     "name": "stdout",
     "output_type": "stream",
     "text": [
      "rfc-train-acc: 1.0\n",
      "rfc-test-acc: 0.9689827568615448\n",
      "rfc-f1-acc: 1.0\n"
     ]
    }
   ],
   "source": [
    "#RFC\n",
    "rfc_acc_train = accuracy_score(y_train, rfc.predict(X_train))\n",
    "rfc_acc_test = accuracy_score(y_test, rfc.predict(X_test))\n",
    "rfc_f1 = f1_score(y_train, rfc.predict(X_train), average='micro')\n",
    "print(\"rfc-train-acc:\", rfc_acc_train)\n",
    "print(\"rfc-test-acc:\", rfc_acc_test)\n",
    "print(\"rfc-f1-acc:\", rfc_f1)"
   ]
  },
  {
   "cell_type": "markdown",
   "metadata": {},
   "source": [
    "## ROC"
   ]
  },
  {
   "cell_type": "code",
   "execution_count": 20,
   "metadata": {},
   "outputs": [],
   "source": [
    "from sklearn.metrics import auc, roc_auc_score,  roc_curve"
   ]
  },
  {
   "cell_type": "code",
   "execution_count": 23,
   "metadata": {},
   "outputs": [],
   "source": [
    "y5 = y_test=='5'\n",
    "bay5 = bay.predict(X_test).astype(int)==5\n",
    "lin5 = lin.predict(X_test).astype(int)==5\n",
    "rf5= rfc.predict(X_test).astype(int)==5\n",
    "\n",
    "bay_fpr, bay_tpr, x = roc_curve(y5, bay5)\n",
    "bay_rocauc = auc(bay_fpr, bay_tpr)\n",
    "\n",
    "lin_fpr, linr_tpr, x = roc_curve(y5, lin5)\n",
    "lin_rocauc = auc(lin_fpr, linr_tpr)\n",
    "\n",
    "rf_fpr, rf_tpr, x = roc_curve(y5, rf5)\n",
    "rf_rocauc = auc(rf_fpr, rf_tpr)\n"
   ]
  },
  {
   "cell_type": "code",
   "execution_count": 24,
   "metadata": {},
   "outputs": [
    {
     "data": {
      "image/png": "[encoded data removed]",
      "text/plain": [
       "<Figure size 432x288 with 1 Axes>"
      ]
     },
     "metadata": {
      "needs_background": "light"
     },
     "output_type": "display_data"
    }
   ],
   "source": [
    "plt.xlabel('False Positive Rate')\n",
    "plt.ylabel('True Positive Rate')\n",
    "\n",
    "plt.plot([0, 1], [0, 1], color='navy', lw=3, linestyle='--')\n",
    "\n",
    "plt.plot(bay_fpr, bay_tpr, color='darkorange',\n",
    "         lw=3, label='Bayes (area = %s)' % round(bay_rocauc, 2))\n",
    "plt.plot(lin_fpr, linr_tpr, color='blue',\n",
    "         lw=3, label='Linear (area = %s )' % round(lin_rocauc, 2))\n",
    "plt.plot(rf_fpr, rf_tpr, color='red',\n",
    "         lw=3, label='RF (area = %s )' % round(rf_rocauc, 2))\n",
    "plt.legend()\n",
    "plt.show()"
   ]
  }
 ],
 "metadata": {
  "kernelspec": {
   "display_name": "Python 3",
   "language": "python",
   "name": "python3"
  },
  "language_info": {
   "codemirror_mode": {
    "name": "ipython",
    "version": 3
   },
   "file_extension": ".py",
   "mimetype": "text/x-python",
   "name": "python",
   "nbconvert_exporter": "python",
   "pygments_lexer": "ipython3",
   "version": "3.8.5"
  }
 },
 "nbformat": 4,
 "nbformat_minor": 4
}
