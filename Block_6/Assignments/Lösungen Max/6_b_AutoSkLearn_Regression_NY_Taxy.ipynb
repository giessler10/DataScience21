{
 "cells": [
  {
   "cell_type": "markdown",
   "metadata": {},
   "source": [
    "# Block 6 Exercise 2: finding the best parameters for predicting the fare of taxi rides\n",
    "We return to our Random Forest Regression and want to automatically optimize all free parameters ..."
   ]
  },
  {
   "cell_type": "code",
   "execution_count": 1,
   "metadata": {},
   "outputs": [],
   "source": [
    "import pandas as pd\n",
    "import numpy as np\n",
    "import folium"
   ]
  },
  {
   "cell_type": "code",
   "execution_count": 2,
   "metadata": {},
   "outputs": [],
   "source": [
    "# we load the data we have saved after wrangling and pre-processing in block I\n",
    "X=pd.read_csv('../../DATA/train_cleaned.csv')\n",
    "drop_columns=['Unnamed: 0','Unnamed: 0.1','Unnamed: 0.1.1','key','pickup_datetime','pickup_date','pickup_latitude_round3','pickup_longitude_round3','dropoff_latitude_round3','dropoff_longitude_round3']\n",
    "X=X.drop(drop_columns,axis=1)\n",
    "X=pd.get_dummies(X)# one hot coding\n",
    "#generate labels\n",
    "y=X['fare_amount']\n",
    "X=X.drop(['fare_amount'],axis=1)"
   ]
  },
  {
   "cell_type": "markdown",
   "metadata": {},
   "source": [
    "### Scikit Optimize\n",
    "Scikit Optimize (https://scikit-optimize.github.io/stable/index.html) is a AutoML toolbox wrapped around Scikit-Learn. It allows us to use state-of-the-art automatic hyper-parameter optimization on top of our learning algorithms.   \n",
    "\n"
   ]
  },
  {
   "cell_type": "code",
   "execution_count": 3,
   "metadata": {},
   "outputs": [
    {
     "name": "stdout",
     "output_type": "stream",
     "text": [
      "Requirement already satisfied: scikit-optimize in c:\\users\\sauer\\anaconda3\\lib\\site-packages (0.8.1)\n",
      "Requirement already satisfied: scipy>=0.19.1 in c:\\users\\sauer\\anaconda3\\lib\\site-packages (from scikit-optimize) (1.5.0)\n",
      "Requirement already satisfied: pyaml>=16.9 in c:\\users\\sauer\\anaconda3\\lib\\site-packages (from scikit-optimize) (20.4.0)\n",
      "Requirement already satisfied: numpy>=1.13.3 in c:\\users\\sauer\\anaconda3\\lib\\site-packages (from scikit-optimize) (1.18.5)\n",
      "Requirement already satisfied: scikit-learn>=0.20.0 in c:\\users\\sauer\\anaconda3\\lib\\site-packages (from scikit-optimize) (0.23.1)\n",
      "Requirement already satisfied: joblib>=0.11 in c:\\users\\sauer\\anaconda3\\lib\\site-packages (from scikit-optimize) (0.16.0)\n",
      "Requirement already satisfied: PyYAML in c:\\users\\sauer\\anaconda3\\lib\\site-packages (from pyaml>=16.9->scikit-optimize) (5.3.1)\n",
      "Requirement already satisfied: threadpoolctl>=2.0.0 in c:\\users\\sauer\\anaconda3\\lib\\site-packages (from scikit-learn>=0.20.0->scikit-optimize) (2.1.0)\n"
     ]
    }
   ],
   "source": [
    "# install \n",
    "!pip install scikit-optimize"
   ]
  },
  {
   "cell_type": "markdown",
   "metadata": {},
   "source": [
    "### E 2.1 Bayesian Optimization of a Random Forest Regression Model\n",
    "use Bayesian Optimization with Cross-Validation (https://scikit-optimize.github.io/stable/modules/generated/skopt.BayesSearchCV.html#skopt.BayesSearchCV) to find the best regression model. Compare\n",
    "* linear regression (https://scikit-learn.org/stable/modules/generated/sklearn.linear_model.LinearRegression.html#sklearn.linear_model.LinearRegression) \n",
    "* Random Forest regression (https://scikit-learn.org/stable/modules/generated/sklearn.ensemble.RandomForestRegressor.html#sklearn.ensemble.RandomForestRegressor)\n",
    "* and SVM regression (https://scikit-learn.org/stable/modules/generated/sklearn.svm.SVR.html#sklearn.svm.SVR)\n",
    "\n",
    "NOTES: this can become quite compute intensive! Hence,\n",
    "* use a smaller subset of the training data to run the experiments \n",
    "* think about the range of your parameters (e.g. larger number of trees in RF or high C-values in SMV will make models expensive)\n",
    "* optimize only the following parameters per model type:\n",
    "    * linear: no parameters to optimize\n",
    "    * RF: #trees and depth\n",
    "    * SVM: C and gamma (use RBF kernel)\n",
    "* parallelize -> n_jobs\n",
    "* use CoLab to rum the job for up to 12h \n"
   ]
  },
  {
   "cell_type": "code",
   "execution_count": 4,
   "metadata": {},
   "outputs": [],
   "source": [
    "from skopt import BayesSearchCV\n",
    "from sklearn.model_selection import train_test_split\n",
    "\n",
    "X_train, X_test, y_train, y_test = train_test_split(X.to_numpy()[:10000,:], y.to_numpy()[:10000]) "
   ]
  },
  {
   "cell_type": "code",
   "execution_count": 5,
   "metadata": {},
   "outputs": [
    {
     "name": "stdout",
     "output_type": "stream",
     "text": [
      "Score: 0.8353435869712948\n",
      "Best Score: 0.7755582923512498\n",
      "Best Params: OrderedDict([('max_depth', 10), ('n_estimators', 250)])\n"
     ]
    }
   ],
   "source": [
    "#-----------RandomForestRegressor-------------#\n",
    "import warnings\n",
    "warnings.filterwarnings('ignore', message='The objective has been evaluated at this point before.')\n",
    "from skopt import BayesSearchCV\n",
    "from sklearn.ensemble import RandomForestRegressor\n",
    "\n",
    "rfr_opt = BayesSearchCV( \n",
    "         RandomForestRegressor(),\n",
    "         {\n",
    "             'n_estimators':[50, 150, 200, 250, 300, 350],\n",
    "             'max_depth':[2, 4, 6, 8, 10, 12, 14]\n",
    "         },\n",
    "         n_iter=32,\n",
    "         random_state=0,\n",
    "         n_jobs=-1,\n",
    "         cv=3\n",
    "     )\n",
    "\n",
    "rfr_mod = rfr_opt.fit(X_train, y_train)\n",
    "print(\"Score:\", rfr_mod.score(X_test, y_test))\n",
    "print(\"Best Score:\",rfr_mod.best_score_)\n",
    "print(\"Best Params:\",rfr_mod.best_params_)"
   ]
  },
  {
   "cell_type": "code",
   "execution_count": 6,
   "metadata": {},
   "outputs": [
    {
     "name": "stdout",
     "output_type": "stream",
     "text": [
      "Score: 0.7781697737235646\n",
      "Best Score: 0.733099523440998\n",
      "Best Params: OrderedDict([('C', 1.0), ('gamma', 0.001), ('kernel', 'rbf')])\n"
     ]
    }
   ],
   "source": [
    "#-----------SVR-------------#\n",
    "\n",
    "from sklearn.svm import SVR\n",
    "import warnings\n",
    "warnings.filterwarnings('ignore', message='The objective has been evaluated at this point before.')\n",
    "\n",
    "svr_opt = BayesSearchCV(\n",
    "    SVR(),\n",
    "    {\n",
    "        'C': [0.1, 0.2, 0.3, 0.5, 1.0],\n",
    "        'gamma': [0.1, 0.01, 0.001, 0.0001, 1.0],\n",
    "        'kernel': ['rbf'],\n",
    "    },\n",
    "    n_iter=32,\n",
    "    random_state=0,\n",
    "    n_jobs=-1,\n",
    "    pre_dispatch='n_jobs'\n",
    ")\n",
    "\n",
    "\n",
    "svr_mod = svr_opt.fit(X_train, y_train)\n",
    "print(\"Score:\", svr_mod.score(X_test, y_test))\n",
    "print(\"Best Score:\",svr_mod.best_score_)\n",
    "print(\"Best Params:\",svr_mod.best_params_)"
   ]
  },
  {
   "cell_type": "code",
   "execution_count": 7,
   "metadata": {},
   "outputs": [
    {
     "name": "stdout",
     "output_type": "stream",
     "text": [
      "0.7401300906142674\n"
     ]
    }
   ],
   "source": [
    "#-----------Linear Regression-------------#\n",
    "\n",
    "from sklearn.linear_model import LinearRegression\n",
    "lin = LinearRegression()\n",
    "lin.fit(X_train,y_train)\n",
    "print(lin.score(X_test, y_test))"
   ]
  },
  {
   "cell_type": "code",
   "execution_count": 8,
   "metadata": {},
   "outputs": [
    {
     "name": "stdout",
     "output_type": "stream",
     "text": [
      "0.8320936826414214\n"
     ]
    }
   ],
   "source": [
    "#-------------Check best params-------------#\n",
    "\n",
    "#rfr\n",
    "rnd_best = RandomForestRegressor(\n",
    "    n_estimators=150,\n",
    "    max_depth=8)\n",
    "rnd_optimum = rnd_best.fit(X_train, y_train)\n",
    "print(rnd_optimum.score(X_test, y_test))"
   ]
  },
  {
   "cell_type": "code",
   "execution_count": 9,
   "metadata": {},
   "outputs": [
    {
     "name": "stdout",
     "output_type": "stream",
     "text": [
      "RandomForestRegressor(max_depth=8, n_estimators=150)\n",
      "0.8315736727185364\n"
     ]
    }
   ],
   "source": [
    "rnd_optimum = rnd_best.fit(X_train, y_train)\n",
    "print(rnd_optimum)\n",
    "print(rnd_optimum.score(X_test, y_test))"
   ]
  },
  {
   "cell_type": "code",
   "execution_count": 10,
   "metadata": {},
   "outputs": [
    {
     "name": "stdout",
     "output_type": "stream",
     "text": [
      "0.7781697737235646\n"
     ]
    }
   ],
   "source": [
    "svr_best=SVR(C=1.0,\n",
    "        gamma= 0.001,\n",
    "        kernel= 'rbf')\n",
    "svr_optimum = svr_best.fit(X_train, y_train)\n",
    "print(svr_optimum.score(X_test, y_test))"
   ]
  }
 ],
 "metadata": {
  "kernelspec": {
   "display_name": "Python 3",
   "language": "python",
   "name": "python3"
  },
  "language_info": {
   "codemirror_mode": {
    "name": "ipython",
    "version": 3
   },
   "file_extension": ".py",
   "mimetype": "text/x-python",
   "name": "python",
   "nbconvert_exporter": "python",
   "pygments_lexer": "ipython3",
   "version": "3.8.5"
  }
 },
 "nbformat": 4,
 "nbformat_minor": 4
}
