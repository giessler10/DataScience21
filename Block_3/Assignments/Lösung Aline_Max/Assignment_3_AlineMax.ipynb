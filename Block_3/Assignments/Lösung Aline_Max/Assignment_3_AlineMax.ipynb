{
 "cells": [
  {
   "cell_type": "markdown",
   "metadata": {},
   "source": [
    "# EX3: Some Statistics with Baby Names"
   ]
  },
  {
   "cell_type": "markdown",
   "metadata": {},
   "source": [
    "### Introduction:\n",
    "\n",
    "We are going to use a subset of [US Baby Names](https://www.kaggle.com/kaggle/us-baby-names) from Kaggle.  \n",
    "In the file it will be names from 2004 until 2014\n",
    "\n",
    "\n",
    "### Step 1. Import the necessary libraries"
   ]
  },
  {
   "cell_type": "code",
   "execution_count": 1,
   "metadata": {
    "collapsed": false,
    "jupyter": {
     "outputs_hidden": false
    }
   },
   "outputs": [],
   "source": [
    "import pandas as pd"
   ]
  },
  {
   "cell_type": "markdown",
   "metadata": {},
   "source": [
    "### Step 2. \n",
    "User ***Jupyter Lab*** to view ``../../DATA/US_Baby_Names_right.csv'``."
   ]
  },
  {
   "cell_type": "markdown",
   "metadata": {},
   "source": [
    "### Step 3. Assign it to a variable called baby_names."
   ]
  },
  {
   "cell_type": "code",
   "execution_count": 2,
   "metadata": {
    "collapsed": false,
    "jupyter": {
     "outputs_hidden": false
    }
   },
   "outputs": [
    {
     "name": "stdout",
     "output_type": "stream",
     "text": [
      "         Unnamed: 0       Id     Name  Year Gender State  Count\n",
      "0             11349    11350     Emma  2004      F    AK     62\n",
      "1             11350    11351  Madison  2004      F    AK     48\n",
      "2             11351    11352   Hannah  2004      F    AK     46\n",
      "3             11352    11353    Grace  2004      F    AK     44\n",
      "4             11353    11354    Emily  2004      F    AK     41\n",
      "...             ...      ...      ...   ...    ...   ...    ...\n",
      "1016390     5647421  5647422     Seth  2014      M    WY      5\n",
      "1016391     5647422  5647423  Spencer  2014      M    WY      5\n",
      "1016392     5647423  5647424     Tyce  2014      M    WY      5\n",
      "1016393     5647424  5647425   Victor  2014      M    WY      5\n",
      "1016394     5647425  5647426   Waylon  2014      M    WY      5\n",
      "\n",
      "[1016395 rows x 7 columns]\n"
     ]
    }
   ],
   "source": [
    "baby_names = pd.read_csv('../../DATA/US_Baby_Names_right.csv')\n",
    "print(baby_names)"
   ]
  },
  {
   "cell_type": "markdown",
   "metadata": {},
   "source": [
    "### Step 4. See the first 10 entries"
   ]
  },
  {
   "cell_type": "code",
   "execution_count": 3,
   "metadata": {
    "collapsed": false,
    "jupyter": {
     "outputs_hidden": false
    }
   },
   "outputs": [
    {
     "name": "stdout",
     "output_type": "stream",
     "text": [
      "   Unnamed: 0     Id      Name  Year Gender State  Count\n",
      "0       11349  11350      Emma  2004      F    AK     62\n",
      "1       11350  11351   Madison  2004      F    AK     48\n",
      "2       11351  11352    Hannah  2004      F    AK     46\n",
      "3       11352  11353     Grace  2004      F    AK     44\n",
      "4       11353  11354     Emily  2004      F    AK     41\n",
      "5       11354  11355   Abigail  2004      F    AK     37\n",
      "6       11355  11356    Olivia  2004      F    AK     33\n",
      "7       11356  11357  Isabella  2004      F    AK     30\n",
      "8       11357  11358    Alyssa  2004      F    AK     29\n",
      "9       11358  11359    Sophia  2004      F    AK     28\n"
     ]
    }
   ],
   "source": [
    "print(baby_names.head(10))"
   ]
  },
  {
   "cell_type": "markdown",
   "metadata": {},
   "source": [
    "### Step 5. Delete the column 'Unnamed: 0' and 'Id'"
   ]
  },
  {
   "cell_type": "code",
   "execution_count": 4,
   "metadata": {
    "collapsed": false,
    "jupyter": {
     "outputs_hidden": false
    }
   },
   "outputs": [],
   "source": [
    "del baby_names['Unnamed: 0']\n",
    "del baby_names['Id']"
   ]
  },
  {
   "cell_type": "code",
   "execution_count": 5,
   "metadata": {},
   "outputs": [
    {
     "name": "stdout",
     "output_type": "stream",
     "text": [
      "            Name  Year Gender State  Count\n",
      "0           Emma  2004      F    AK     62\n",
      "1        Madison  2004      F    AK     48\n",
      "2         Hannah  2004      F    AK     46\n",
      "3          Grace  2004      F    AK     44\n",
      "4          Emily  2004      F    AK     41\n",
      "...          ...   ...    ...   ...    ...\n",
      "1016390     Seth  2014      M    WY      5\n",
      "1016391  Spencer  2014      M    WY      5\n",
      "1016392     Tyce  2014      M    WY      5\n",
      "1016393   Victor  2014      M    WY      5\n",
      "1016394   Waylon  2014      M    WY      5\n",
      "\n",
      "[1016395 rows x 5 columns]\n"
     ]
    }
   ],
   "source": [
    "print(baby_names)"
   ]
  },
  {
   "cell_type": "markdown",
   "metadata": {},
   "source": [
    "### Step 6. Are there more male or female names in the dataset?"
   ]
  },
  {
   "cell_type": "code",
   "execution_count": 6,
   "metadata": {
    "collapsed": false,
    "jupyter": {
     "outputs_hidden": false
    }
   },
   "outputs": [
    {
     "data": {
      "text/plain": [
       "(1016395,)"
      ]
     },
     "execution_count": 6,
     "metadata": {},
     "output_type": "execute_result"
    }
   ],
   "source": [
    "baby_names['Gender'].shape"
   ]
  },
  {
   "cell_type": "code",
   "execution_count": 7,
   "metadata": {},
   "outputs": [
    {
     "data": {
      "text/plain": [
       "F    558846\n",
       "M    457549\n",
       "Name: Gender, dtype: int64"
      ]
     },
     "execution_count": 7,
     "metadata": {},
     "output_type": "execute_result"
    }
   ],
   "source": [
    "baby_names['Gender'].value_counts()"
   ]
  },
  {
   "cell_type": "code",
   "execution_count": 8,
   "metadata": {},
   "outputs": [
    {
     "name": "stdout",
     "output_type": "stream",
     "text": [
      "54.98315123549408 % Anteil Frauennamen\n",
      "45.01684876450592 % Anteil Männernamen\n"
     ]
    }
   ],
   "source": [
    "percent = baby_names['Gender'].value_counts(normalize=True)*100\n",
    "print(percent[0], '% Anteil Frauennamen')\n",
    "print(percent[1], '% Anteil Männernamen')"
   ]
  },
  {
   "cell_type": "markdown",
   "metadata": {},
   "source": [
    "#### In dem Datensatz sind mehr Frauen als Männernamen"
   ]
  },
  {
   "cell_type": "markdown",
   "metadata": {},
   "source": [
    "### Step 7. Group the dataset by name and assign to names"
   ]
  },
  {
   "cell_type": "code",
   "execution_count": 19,
   "metadata": {
    "collapsed": false,
    "jupyter": {
     "outputs_hidden": false
    }
   },
   "outputs": [],
   "source": [
    "names =baby_names.groupby('Name')"
   ]
  },
  {
   "cell_type": "markdown",
   "metadata": {},
   "source": [
    "### Step 8. How many different names exist in the dataset?"
   ]
  },
  {
   "cell_type": "code",
   "execution_count": 20,
   "metadata": {
    "collapsed": false,
    "jupyter": {
     "outputs_hidden": false
    }
   },
   "outputs": [
    {
     "name": "stdout",
     "output_type": "stream",
     "text": [
      "Es existieren: 17632 verschiedene Namen in der Tabelle\n"
     ]
    }
   ],
   "source": [
    "diffNames = baby_names['Name'].value_counts().shape\n",
    "print('Es existieren:',diffNames[0], 'verschiedene Namen in der Tabelle')"
   ]
  },
  {
   "cell_type": "code",
   "execution_count": 21,
   "metadata": {},
   "outputs": [
    {
     "data": {
      "text/plain": [
       "17632"
      ]
     },
     "execution_count": 21,
     "metadata": {},
     "output_type": "execute_result"
    }
   ],
   "source": [
    "len(names)"
   ]
  },
  {
   "cell_type": "markdown",
   "metadata": {},
   "source": [
    "### Step 9. What is the name with most occurrences?"
   ]
  },
  {
   "cell_type": "code",
   "execution_count": 22,
   "metadata": {
    "collapsed": false,
    "jupyter": {
     "outputs_hidden": false
    }
   },
   "outputs": [
    {
     "data": {
      "text/plain": [
       "Riley    1112\n",
       "Name: Name, dtype: int64"
      ]
     },
     "execution_count": 22,
     "metadata": {},
     "output_type": "execute_result"
    }
   ],
   "source": [
    "baby_names['Name'].value_counts().head(1)"
   ]
  },
  {
   "cell_type": "markdown",
   "metadata": {},
   "source": [
    "### Step 10. How many different names have the least occurrences?"
   ]
  },
  {
   "cell_type": "code",
   "execution_count": 41,
   "metadata": {
    "collapsed": false,
    "jupyter": {
     "outputs_hidden": false
    }
   },
   "outputs": [
    {
     "data": {
      "text/plain": [
       "5"
      ]
     },
     "execution_count": 41,
     "metadata": {},
     "output_type": "execute_result"
    }
   ],
   "source": [
    "names.Count.sum().min()"
   ]
  },
  {
   "cell_type": "code",
   "execution_count": 42,
   "metadata": {},
   "outputs": [
    {
     "data": {
      "text/plain": [
       "2578"
      ]
     },
     "execution_count": 42,
     "metadata": {},
     "output_type": "execute_result"
    }
   ],
   "source": [
    "len(names.Count.sum()[names.Count.sum() == names.Count.sum().min()])"
   ]
  },
  {
   "cell_type": "markdown",
   "metadata": {},
   "source": [
    "### Step 11. What is the median name occurrence?"
   ]
  },
  {
   "cell_type": "code",
   "execution_count": 46,
   "metadata": {},
   "outputs": [
    {
     "data": {
      "text/plain": [
       "49.0"
      ]
     },
     "execution_count": 46,
     "metadata": {},
     "output_type": "execute_result"
    }
   ],
   "source": [
    "names.Count.sum().median()"
   ]
  },
  {
   "cell_type": "markdown",
   "metadata": {},
   "source": [
    "### Step 12. What is the standard deviation of names?"
   ]
  },
  {
   "cell_type": "code",
   "execution_count": 43,
   "metadata": {
    "collapsed": false,
    "jupyter": {
     "outputs_hidden": false
    }
   },
   "outputs": [
    {
     "name": "stdout",
     "output_type": "stream",
     "text": [
      "Name\n",
      "Aaban       0.000000\n",
      "Aadan       0.957427\n",
      "Aadarsh          NaN\n",
      "Aaden      21.154974\n",
      "Aadhav           NaN\n",
      "             ...    \n",
      "Zyra        1.154701\n",
      "Zyrah       0.707107\n",
      "Zyren            NaN\n",
      "Zyria       0.737865\n",
      "Zyriah      1.666667\n",
      "Name: Count, Length: 17632, dtype: float64\n"
     ]
    }
   ],
   "source": [
    "countedNames = names.Count.std()"
   ]
  },
  {
   "cell_type": "code",
   "execution_count": 45,
   "metadata": {},
   "outputs": [
    {
     "name": "stdout",
     "output_type": "stream",
     "text": [
      "Standardabweichung der Namen:  Name\n",
      "Aaban       0.000000\n",
      "Aadan       0.957427\n",
      "Aadarsh          NaN\n",
      "Aaden      21.154974\n",
      "Aadhav           NaN\n",
      "             ...    \n",
      "Zyra        1.154701\n",
      "Zyrah       0.707107\n",
      "Zyren            NaN\n",
      "Zyria       0.737865\n",
      "Zyriah      1.666667\n",
      "Name: Count, Length: 17632, dtype: float64\n"
     ]
    }
   ],
   "source": [
    "print('Standardabweichung der Namen: \\n', countedNames)"
   ]
  },
  {
   "cell_type": "markdown",
   "metadata": {},
   "source": [
    "### Step 13. Get a summary with the mean, min, max, std and quartiles."
   ]
  },
  {
   "cell_type": "code",
   "execution_count": 53,
   "metadata": {},
   "outputs": [
    {
     "name": "stdout",
     "output_type": "stream",
     "text": [
      "          Year                                                           \\\n",
      "         count         mean       std     min      25%     50%      75%   \n",
      "Name                                                                      \n",
      "Aaban      2.0  2013.500000  0.707107  2013.0  2013.25  2013.5  2013.75   \n",
      "Aadan      4.0  2009.750000  2.872281  2008.0  2008.00  2008.5  2010.25   \n",
      "Aadarsh    1.0  2009.000000       NaN  2009.0  2009.00  2009.0  2009.00   \n",
      "Aaden    196.0  2010.015306  2.044322  2005.0  2008.00  2010.0  2011.00   \n",
      "Aadhav     1.0  2014.000000       NaN  2014.0  2014.00  2014.0  2014.00   \n",
      "...        ...          ...       ...     ...      ...     ...      ...   \n",
      "Zyra       7.0  2012.142857  2.115701  2008.0  2011.50  2013.0  2013.50   \n",
      "Zyrah      2.0  2012.000000  1.414214  2011.0  2011.50  2012.0  2012.50   \n",
      "Zyren      1.0  2013.000000       NaN  2013.0  2013.00  2013.0  2013.00   \n",
      "Zyria     10.0  2008.900000  2.685351  2005.0  2007.25  2008.0  2010.50   \n",
      "Zyriah     9.0  2009.666667  2.915476  2006.0  2007.00  2009.0  2012.00   \n",
      "\n",
      "                 Count                                                       \n",
      "            max  count       mean        std  min   25%   50%    75%    max  \n",
      "Name                                                                         \n",
      "Aaban    2014.0    2.0   6.000000   0.000000  6.0  6.00   6.0   6.00    6.0  \n",
      "Aadan    2014.0    4.0   5.750000   0.957427  5.0  5.00   5.5   6.25    7.0  \n",
      "Aadarsh  2009.0    1.0   5.000000        NaN  5.0  5.00   5.0   5.00    5.0  \n",
      "Aaden    2014.0  196.0  17.479592  21.154974  5.0  6.00  10.0  20.00  158.0  \n",
      "Aadhav   2014.0    1.0   6.000000        NaN  6.0  6.00   6.0   6.00    6.0  \n",
      "...         ...    ...        ...        ...  ...   ...   ...    ...    ...  \n",
      "Zyra     2014.0    7.0   6.000000   1.154701  5.0  5.00   6.0   6.50    8.0  \n",
      "Zyrah    2013.0    2.0   5.500000   0.707107  5.0  5.25   5.5   5.75    6.0  \n",
      "Zyren    2013.0    1.0   6.000000        NaN  6.0  6.00   6.0   6.00    6.0  \n",
      "Zyria    2014.0   10.0   5.900000   0.737865  5.0  5.25   6.0   6.00    7.0  \n",
      "Zyriah   2014.0    9.0   6.444444   1.666667  5.0  5.00   6.0   7.00   10.0  \n",
      "\n",
      "[17632 rows x 16 columns]\n"
     ]
    }
   ],
   "source": [
    "print(names.describe())"
   ]
  }
 ],
 "metadata": {
  "anaconda-cloud": {},
  "kernelspec": {
   "display_name": "Python 3",
   "language": "python",
   "name": "python3"
  },
  "language_info": {
   "codemirror_mode": {
    "name": "ipython",
    "version": 3
   },
   "file_extension": ".py",
   "mimetype": "text/x-python",
   "name": "python",
   "nbconvert_exporter": "python",
   "pygments_lexer": "ipython3",
   "version": "3.7.6"
  }
 },
 "nbformat": 4,
 "nbformat_minor": 4
}
