{
 "cells": [
  {
   "cell_type": "markdown",
   "metadata": {},
   "source": [
    "# Ex1 \n",
    "Hint: some method needed to solve these exercises have not been introduced so far. Follow the hints and use the ***pandas*** documentation."
   ]
  },
  {
   "cell_type": "markdown",
   "metadata": {},
   "source": [
    "\n",
    "### Step 1. Import the necessary libraries"
   ]
  },
  {
   "cell_type": "code",
   "execution_count": 1,
   "metadata": {
    "collapsed": false,
    "jupyter": {
     "outputs_hidden": false
    }
   },
   "outputs": [],
   "source": [
    "import pandas as pd"
   ]
  },
  {
   "cell_type": "markdown",
   "metadata": {},
   "source": [
    "### Step 2.\n",
    "Use ***Jupyter lab*** to browse the data file in ``../../DATA/u.user.csv``. What does this data set represent?"
   ]
  },
  {
   "cell_type": "markdown",
   "metadata": {},
   "source": [
    "### Step 3. Read the CSV data into a pandas DataFrame. Assign it to a variable called users and use the 'user_id' as index"
   ]
  },
  {
   "cell_type": "code",
   "execution_count": 2,
   "metadata": {
    "collapsed": false,
    "jupyter": {
     "outputs_hidden": false
    }
   },
   "outputs": [
    {
     "name": "stdout",
     "output_type": "stream",
     "text": [
      "     user_id  age gender     occupation zip_code\n",
      "0          1   24      M     technician    85711\n",
      "1          2   53      F          other    94043\n",
      "2          3   23      M         writer    32067\n",
      "3          4   24      M     technician    43537\n",
      "4          5   33      F          other    15213\n",
      "..       ...  ...    ...            ...      ...\n",
      "938      939   26      F        student    33319\n",
      "939      940   32      M  administrator    02215\n",
      "940      941   20      M        student    97229\n",
      "941      942   48      F      librarian    78209\n",
      "942      943   22      M        student    77841\n",
      "\n",
      "[943 rows x 5 columns]\n"
     ]
    }
   ],
   "source": [
    "users=pd.read_csv('../../DATA/u.user.csv')\n",
    "print(users)"
   ]
  },
  {
   "cell_type": "markdown",
   "metadata": {},
   "source": [
    "### Step 4. Print the first 25 entries"
   ]
  },
  {
   "cell_type": "code",
   "execution_count": 3,
   "metadata": {
    "collapsed": false,
    "jupyter": {
     "outputs_hidden": false
    },
    "scrolled": true
   },
   "outputs": [
    {
     "name": "stdout",
     "output_type": "stream",
     "text": [
      "    user_id  age gender     occupation zip_code\n",
      "0         1   24      M     technician    85711\n",
      "1         2   53      F          other    94043\n",
      "2         3   23      M         writer    32067\n",
      "3         4   24      M     technician    43537\n",
      "4         5   33      F          other    15213\n",
      "5         6   42      M      executive    98101\n",
      "6         7   57      M  administrator    91344\n",
      "7         8   36      M  administrator    05201\n",
      "8         9   29      M        student    01002\n",
      "9        10   53      M         lawyer    90703\n",
      "10       11   39      F          other    30329\n",
      "11       12   28      F          other    06405\n",
      "12       13   47      M       educator    29206\n",
      "13       14   45      M      scientist    55106\n",
      "14       15   49      F       educator    97301\n",
      "15       16   21      M  entertainment    10309\n",
      "16       17   30      M     programmer    06355\n",
      "17       18   35      F          other    37212\n",
      "18       19   40      M      librarian    02138\n",
      "19       20   42      F      homemaker    95660\n",
      "20       21   26      M         writer    30068\n",
      "21       22   25      M         writer    40206\n",
      "22       23   30      F         artist    48197\n",
      "23       24   21      F         artist    94533\n",
      "24       25   39      M       engineer    55107\n"
     ]
    }
   ],
   "source": [
    "print(users.head(25))"
   ]
  },
  {
   "cell_type": "markdown",
   "metadata": {},
   "source": [
    "### Step 5. Print the last 10 entries"
   ]
  },
  {
   "cell_type": "code",
   "execution_count": 4,
   "metadata": {
    "collapsed": false,
    "jupyter": {
     "outputs_hidden": false
    },
    "scrolled": true
   },
   "outputs": [
    {
     "name": "stdout",
     "output_type": "stream",
     "text": [
      "(943, 5)\n",
      "     user_id  age gender     occupation zip_code\n",
      "933      934   61      M       engineer    22902\n",
      "934      935   42      M         doctor    66221\n",
      "935      936   24      M          other    32789\n",
      "936      937   48      M       educator    98072\n",
      "937      938   38      F     technician    55038\n",
      "938      939   26      F        student    33319\n",
      "939      940   32      M  administrator    02215\n",
      "940      941   20      M        student    97229\n",
      "941      942   48      F      librarian    78209\n",
      "942      943   22      M        student    77841\n"
     ]
    }
   ],
   "source": [
    "print(users.shape)\n",
    "#print(data[-10:])\n",
    "print(users.tail(10))"
   ]
  },
  {
   "cell_type": "markdown",
   "metadata": {},
   "source": [
    "### Step 6. What is the number of observations in the dataset?"
   ]
  },
  {
   "cell_type": "code",
   "execution_count": 23,
   "metadata": {
    "collapsed": false,
    "jupyter": {
     "outputs_hidden": false
    }
   },
   "outputs": [
    {
     "name": "stdout",
     "output_type": "stream",
     "text": [
      "0      85711\n",
      "1      94043\n",
      "2      32067\n",
      "3      43537\n",
      "4      15213\n",
      "       ...  \n",
      "938    33319\n",
      "939    02215\n",
      "940    97229\n",
      "941    78209\n",
      "942    77841\n",
      "Name: zip_code, Length: 943, dtype: object\n",
      "<bound method DataFrame.drop_duplicates of      user_id  age gender     occupation zip_code\n",
      "0          1   24      M     technician    85711\n",
      "1          2   53      F          other    94043\n",
      "2          3   23      M         writer    32067\n",
      "3          4   24      M     technician    43537\n",
      "4          5   33      F          other    15213\n",
      "..       ...  ...    ...            ...      ...\n",
      "938      939   26      F        student    33319\n",
      "939      940   32      M  administrator    02215\n",
      "940      941   20      M        student    97229\n",
      "941      942   48      F      librarian    78209\n",
      "942      943   22      M        student    77841\n",
      "\n",
      "[943 rows x 5 columns]>\n",
      "943 Beobachtungen\n"
     ]
    }
   ],
   "source": [
    "observ = users['zip_code']\n",
    "observ.drop_duplicates\n",
    "print(observ)\n",
    "\n",
    "print(users.drop_duplicates)\n",
    "\n",
    "print(users.shape[0], 'Beobachtungen')"
   ]
  },
  {
   "cell_type": "markdown",
   "metadata": {},
   "source": [
    "### Step 7. What is the number of columns in the dataset?"
   ]
  },
  {
   "cell_type": "code",
   "execution_count": 6,
   "metadata": {
    "collapsed": false,
    "jupyter": {
     "outputs_hidden": false
    }
   },
   "outputs": [
    {
     "name": "stdout",
     "output_type": "stream",
     "text": [
      "5\n"
     ]
    }
   ],
   "source": [
    "print(len(users.columns))"
   ]
  },
  {
   "cell_type": "markdown",
   "metadata": {},
   "source": [
    "### Step 8. Print the name of all the columns."
   ]
  },
  {
   "cell_type": "code",
   "execution_count": 7,
   "metadata": {
    "collapsed": false,
    "jupyter": {
     "outputs_hidden": false
    }
   },
   "outputs": [
    {
     "name": "stdout",
     "output_type": "stream",
     "text": [
      "Index(['user_id', 'age', 'gender', 'occupation', 'zip_code'], dtype='object')\n"
     ]
    }
   ],
   "source": [
    "print(users.columns)"
   ]
  },
  {
   "cell_type": "code",
   "execution_count": 25,
   "metadata": {},
   "outputs": [
    {
     "data": {
      "text/plain": [
       "user_id        int64\n",
       "age            int64\n",
       "gender        object\n",
       "occupation    object\n",
       "zip_code      object\n",
       "dtype: object"
      ]
     },
     "execution_count": 25,
     "metadata": {},
     "output_type": "execute_result"
    }
   ],
   "source": [
    "users.dtypes"
   ]
  },
  {
   "cell_type": "markdown",
   "metadata": {},
   "source": [
    "### Step 9. How is the dataset indexed?"
   ]
  },
  {
   "cell_type": "code",
   "execution_count": 8,
   "metadata": {
    "collapsed": false,
    "jupyter": {
     "outputs_hidden": false
    }
   },
   "outputs": [
    {
     "name": "stdout",
     "output_type": "stream",
     "text": [
      "Index Range:  RangeIndex(start=0, stop=943, step=1)\n",
      "Index typ:  <class 'pandas.core.indexes.range.RangeIndex'>\n"
     ]
    }
   ],
   "source": [
    "print('Index Range: ', users.index)\n",
    "print('Index typ: ', type(users.index))"
   ]
  },
  {
   "cell_type": "markdown",
   "metadata": {},
   "source": [
    "### Step 10. What is the data type of each column?\n",
    "Hint: this works like in NumPy"
   ]
  },
  {
   "cell_type": "code",
   "execution_count": 9,
   "metadata": {
    "collapsed": false,
    "jupyter": {
     "outputs_hidden": false
    }
   },
   "outputs": [
    {
     "data": {
      "text/plain": [
       "user_id        int64\n",
       "age            int64\n",
       "gender        object\n",
       "occupation    object\n",
       "zip_code      object\n",
       "dtype: object"
      ]
     },
     "execution_count": 9,
     "metadata": {},
     "output_type": "execute_result"
    }
   ],
   "source": [
    "users.dtypes"
   ]
  },
  {
   "cell_type": "markdown",
   "metadata": {},
   "source": [
    "### Step 11. Print only the occupation column"
   ]
  },
  {
   "cell_type": "code",
   "execution_count": 10,
   "metadata": {
    "collapsed": false,
    "jupyter": {
     "outputs_hidden": false
    }
   },
   "outputs": [
    {
     "name": "stdout",
     "output_type": "stream",
     "text": [
      "0         technician\n",
      "1              other\n",
      "2             writer\n",
      "3         technician\n",
      "4              other\n",
      "           ...      \n",
      "938          student\n",
      "939    administrator\n",
      "940          student\n",
      "941        librarian\n",
      "942          student\n",
      "Name: occupation, Length: 943, dtype: object\n"
     ]
    }
   ],
   "source": [
    "print(users['occupation'])"
   ]
  },
  {
   "cell_type": "markdown",
   "metadata": {},
   "source": [
    "### Step 12. How many different occupations there are in this dataset? \n",
    "Hint: try the ``nunique()`` function."
   ]
  },
  {
   "cell_type": "code",
   "execution_count": 26,
   "metadata": {
    "collapsed": false,
    "jupyter": {
     "outputs_hidden": false
    }
   },
   "outputs": [
    {
     "name": "stdout",
     "output_type": "stream",
     "text": [
      "21\n",
      "Anzahl Gesamt occupation\n",
      "administrator     79\n",
      "artist            28\n",
      "doctor             7\n",
      "educator          95\n",
      "engineer          67\n",
      "entertainment     18\n",
      "executive         32\n",
      "healthcare        16\n",
      "homemaker          7\n",
      "lawyer            12\n",
      "librarian         51\n",
      "marketing         26\n",
      "none               9\n",
      "other            105\n",
      "programmer        66\n",
      "retired           14\n",
      "salesman          12\n",
      "scientist         31\n",
      "student          196\n",
      "technician        27\n",
      "writer            45\n",
      "Name: occupation, dtype: int64\n",
      "Anzahl:  21  Einträge\n"
     ]
    }
   ],
   "source": [
    "print(users['occupation'].nunique())\n",
    "\n",
    "#test\n",
    "unique_data = users.groupby('occupation')['occupation']\n",
    "print('Anzahl Gesamt',unique_data.count())\n",
    "\n",
    "print('Anzahl: ', len(unique_data), ' Einträge')\n",
    "\n",
    "\n"
   ]
  },
  {
   "cell_type": "markdown",
   "metadata": {},
   "source": [
    "### Step 13. What is the most frequent occupation?\n",
    "Hint: ``value_counts()``"
   ]
  },
  {
   "cell_type": "code",
   "execution_count": 31,
   "metadata": {
    "collapsed": false,
    "jupyter": {
     "outputs_hidden": false
    }
   },
   "outputs": [
    {
     "name": "stdout",
     "output_type": "stream",
     "text": [
      "student    196\n",
      "Name: occupation, dtype: int64\n"
     ]
    }
   ],
   "source": [
    "print(users.occupation.value_counts().head(1))"
   ]
  },
  {
   "cell_type": "code",
   "execution_count": 33,
   "metadata": {},
   "outputs": [
    {
     "name": "stdout",
     "output_type": "stream",
     "text": [
      "student          196\n",
      "other            105\n",
      "educator          95\n",
      "administrator     79\n",
      "engineer          67\n",
      "programmer        66\n",
      "librarian         51\n",
      "writer            45\n",
      "executive         32\n",
      "scientist         31\n",
      "artist            28\n",
      "technician        27\n",
      "marketing         26\n",
      "entertainment     18\n",
      "healthcare        16\n",
      "retired           14\n",
      "lawyer            12\n",
      "salesman          12\n",
      "none               9\n",
      "homemaker          7\n",
      "doctor             7\n",
      "Name: occupation, dtype: int64\n"
     ]
    }
   ],
   "source": [
    "#test\n",
    "ccup = users['occupation']\n",
    "print(ccup.value_counts())"
   ]
  },
  {
   "cell_type": "markdown",
   "metadata": {},
   "source": [
    "### Step 14. Summarize the DataFrame."
   ]
  },
  {
   "cell_type": "code",
   "execution_count": 34,
   "metadata": {
    "collapsed": false,
    "jupyter": {
     "outputs_hidden": false
    }
   },
   "outputs": [
    {
     "name": "stdout",
     "output_type": "stream",
     "text": [
      "ohne unterscheidung\n",
      " user_id                                                  445096\n",
      "age                                                       32111\n",
      "gender        MFMMFMMMMMFFMMFMMFMFMMFFMMFMMMMFMFFFMFMMMMFMMF...\n",
      "occupation    technicianotherwritertechnicianotherexecutivea...\n",
      "zip_code      8571194043320674353715213981019134405201010029...\n",
      "dtype: object \n",
      "\n",
      "mit unterscheidung\n",
      " user_id    445096\n",
      "age         32111\n",
      "dtype: int64\n"
     ]
    }
   ],
   "source": [
    "#Summe der DataFrames\n",
    "print('ohne unterscheidung\\n', users.sum(),'\\n')\n",
    "print('mit unterscheidung\\n',users.sum(numeric_only = True))"
   ]
  },
  {
   "cell_type": "code",
   "execution_count": 15,
   "metadata": {},
   "outputs": [],
   "source": [
    "#Description"
   ]
  },
  {
   "cell_type": "code",
   "execution_count": 35,
   "metadata": {},
   "outputs": [
    {
     "name": "stdout",
     "output_type": "stream",
     "text": [
      "          user_id         age\n",
      "count  943.000000  943.000000\n",
      "mean   472.000000   34.051962\n",
      "std    272.364951   12.192740\n",
      "min      1.000000    7.000000\n",
      "25%    236.500000   25.000000\n",
      "50%    472.000000   31.000000\n",
      "75%    707.500000   43.000000\n",
      "max    943.000000   73.000000\n"
     ]
    }
   ],
   "source": [
    "print(users.describe())"
   ]
  },
  {
   "cell_type": "markdown",
   "metadata": {},
   "source": [
    "### Step 15. Summarize all the columns"
   ]
  },
  {
   "cell_type": "code",
   "execution_count": 17,
   "metadata": {
    "collapsed": false,
    "jupyter": {
     "outputs_hidden": false
    },
    "scrolled": true
   },
   "outputs": [
    {
     "data": {
      "text/plain": [
       "user_id                                                  445096\n",
       "age                                                       32111\n",
       "gender        MFMMFMMMMMFFMMFMMFMFMMFFMMFMMMMFMFFFMFMMMMFMMF...\n",
       "occupation    technicianotherwritertechnicianotherexecutivea...\n",
       "zip_code      8571194043320674353715213981019134405201010029...\n",
       "dtype: object"
      ]
     },
     "execution_count": 17,
     "metadata": {},
     "output_type": "execute_result"
    }
   ],
   "source": [
    "#Summe der Spalten\n",
    "users[users.columns].sum()"
   ]
  },
  {
   "cell_type": "code",
   "execution_count": 18,
   "metadata": {},
   "outputs": [
    {
     "name": "stdout",
     "output_type": "stream",
     "text": [
      "           user_id         age gender occupation zip_code\n",
      "count   943.000000  943.000000    943        943      943\n",
      "unique         NaN         NaN      2         21      795\n",
      "top            NaN         NaN      M    student    55414\n",
      "freq           NaN         NaN    670        196        9\n",
      "mean    472.000000   34.051962    NaN        NaN      NaN\n",
      "std     272.364951   12.192740    NaN        NaN      NaN\n",
      "min       1.000000    7.000000    NaN        NaN      NaN\n",
      "25%     236.500000   25.000000    NaN        NaN      NaN\n",
      "50%     472.000000   31.000000    NaN        NaN      NaN\n",
      "75%     707.500000   43.000000    NaN        NaN      NaN\n",
      "max     943.000000   73.000000    NaN        NaN      NaN\n"
     ]
    }
   ],
   "source": [
    "#Description der Spalten\n",
    "print(users.describe(include='all'))"
   ]
  },
  {
   "cell_type": "markdown",
   "metadata": {},
   "source": [
    "### Step 16. Summarize only the occupation column"
   ]
  },
  {
   "cell_type": "code",
   "execution_count": 36,
   "metadata": {
    "collapsed": false,
    "jupyter": {
     "outputs_hidden": false
    }
   },
   "outputs": [
    {
     "data": {
      "text/plain": [
       "count         943\n",
       "unique         21\n",
       "top       student\n",
       "freq          196\n",
       "Name: occupation, dtype: object"
      ]
     },
     "execution_count": 36,
     "metadata": {},
     "output_type": "execute_result"
    }
   ],
   "source": [
    "#description\n",
    "users['occupation'].describe()"
   ]
  },
  {
   "cell_type": "code",
   "execution_count": null,
   "metadata": {},
   "outputs": [],
   "source": [
    "#summe\n",
    "users['occupation'].sum()"
   ]
  },
  {
   "cell_type": "markdown",
   "metadata": {},
   "source": [
    "### Step 17. What is the mean age of users?"
   ]
  },
  {
   "cell_type": "code",
   "execution_count": 20,
   "metadata": {
    "collapsed": false,
    "jupyter": {
     "outputs_hidden": false
    }
   },
   "outputs": [
    {
     "name": "stdout",
     "output_type": "stream",
     "text": [
      "34.05196182396607\n",
      "[  34.05196182 6422.2       ]\n"
     ]
    }
   ],
   "source": [
    "#vordefiniert\n",
    "print(users['age'].mean())\n",
    "\n",
    "#Test\n",
    "sumAge = users['age'].sum()\n",
    "meanAge = sumAge/users.shape\n",
    "print(meanAge)"
   ]
  },
  {
   "cell_type": "markdown",
   "metadata": {},
   "source": [
    "### Step 18. What is the age with least occurrence?"
   ]
  },
  {
   "cell_type": "code",
   "execution_count": 21,
   "metadata": {},
   "outputs": [
    {
     "name": "stdout",
     "output_type": "stream",
     "text": [
      "7      1\n",
      "66     1\n",
      "73     1\n",
      "10     1\n",
      "11     1\n",
      "62     2\n",
      "69     2\n",
      "68     2\n",
      "64     2\n",
      "58     3\n",
      "59     3\n",
      "61     3\n",
      "70     3\n",
      "65     3\n",
      "14     3\n",
      "63     3\n",
      "54     4\n",
      "16     5\n",
      "13     5\n",
      "15     6\n",
      "56     6\n",
      "52     6\n",
      "60     9\n",
      "57     9\n",
      "41    10\n",
      "55    11\n",
      "53    12\n",
      "46    12\n",
      "43    13\n",
      "47    14\n",
      "17    14\n",
      "45    15\n",
      "38    17\n",
      "34    17\n",
      "18    18\n",
      "37    19\n",
      "49    19\n",
      "48    20\n",
      "50    20\n",
      "51    20\n",
      "42    21\n",
      "36    21\n",
      "40    21\n",
      "39    22\n",
      "44    23\n",
      "19    23\n",
      "31    25\n",
      "33    26\n",
      "21    27\n",
      "35    27\n",
      "23    28\n",
      "32    28\n",
      "20    32\n",
      "29    32\n",
      "24    33\n",
      "26    34\n",
      "27    35\n",
      "28    36\n",
      "22    37\n",
      "25    38\n",
      "30    39\n",
      "Name: age, dtype: int64\n"
     ]
    }
   ],
   "source": [
    "pd.options.display.max_rows = 70\n",
    "Age = users['age'].value_counts(ascending=True)\n",
    "print(Age)\n",
    "#Alter das am wenigsten vorkommt: 7 - 11 Jahre\n",
    "\n"
   ]
  }
 ],
 "metadata": {
  "anaconda-cloud": {},
  "kernelspec": {
   "display_name": "Python 3",
   "language": "python",
   "name": "python3"
  },
  "language_info": {
   "codemirror_mode": {
    "name": "ipython",
    "version": 3
   },
   "file_extension": ".py",
   "mimetype": "text/x-python",
   "name": "python",
   "nbconvert_exporter": "python",
   "pygments_lexer": "ipython3",
   "version": "3.7.6"
  }
 },
 "nbformat": 4,
 "nbformat_minor": 4
}
