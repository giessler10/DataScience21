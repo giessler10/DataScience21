{
 "cells": [
  {
   "cell_type": "markdown",
   "metadata": {},
   "source": [
    "# Exercise: Clustering Algorithms with Scikit Learn\n",
    "<img src=\"../Lab/IMG/sk-logo.png\" width=200>\n",
    "\n",
    "* ***SkLearn*** API Reference: https://scikit-learn.org/stable/modules/classes.html\n",
    "* ***SkLearn*** Clustering Algorithms: https://scikit-learn.org/stable/modules/clustering.html#clustering"
   ]
  },
  {
   "cell_type": "code",
   "execution_count": 1,
   "metadata": {},
   "outputs": [],
   "source": [
    "#setup env\n",
    "import time\n",
    "import warnings\n",
    "import numpy as np\n",
    "import matplotlib.pyplot as plt\n",
    "%matplotlib inline\n",
    "from sklearn import cluster, datasets, mixture\n",
    "from sklearn.neighbors import kneighbors_graph\n",
    "from sklearn.preprocessing import StandardScaler"
   ]
  },
  {
   "cell_type": "code",
   "execution_count": 2,
   "metadata": {},
   "outputs": [],
   "source": [
    "#helper calls\n",
    "n_samples = 1500\n",
    "random_state = 170\n",
    "X, y = datasets.make_blobs(n_samples=n_samples, random_state=random_state)\n",
    "transformation = [[0.6, -0.6], [-0.4, 0.8]]\n",
    "X_aniso = np.dot(X, transformation)\n",
    "\n",
    "#generating Data Sets A-F\n",
    "A = datasets.make_circles(n_samples=n_samples, factor=.5,noise=.05)[0]\n",
    "B = datasets.make_moons(n_samples=n_samples, noise=.05)[0]\n",
    "C = datasets.make_blobs(n_samples=n_samples, random_state=8)[0]\n",
    "D = np.random.rand(n_samples, 2)\n",
    "E = (X_aniso, y)[0]\n",
    "F = datasets.make_blobs(n_samples=n_samples,\n",
    "                             cluster_std=[1.0, 2.5, 0.5],\n",
    "                             random_state=random_state)[0]"
   ]
  },
  {
   "cell_type": "markdown",
   "metadata": {},
   "source": [
    "## Exercise 1\n",
    "Plot all raw data sets A-F in one figure.\n",
    "\n",
    "Hints: use MATPLOTLIB ```scatter``` plots and ```subfigures```."
   ]
  },
  {
   "cell_type": "code",
   "execution_count": 11,
   "metadata": {},
   "outputs": [
    {
     "data": {
      "image/png": "[encoded data removed]",
      "text/plain": [
       "<Figure size 432x288 with 1 Axes>"
      ]
     },
     "metadata": {
      "needs_background": "light"
     },
     "output_type": "display_data"
    }
   ],
   "source": [
    "fig, ax = plt.subplots()\n",
    "\n",
    "ax.scatter(A, A,color=\"blue\", lw=1 , ls='-', marker='o', label=\"A\")\n",
    "ax.scatter(B, B,color=\"blue\", lw=1 , ls='-', marker='o', label=\"B\")\n",
    "ax.scatter(C, C,color=\"blue\", lw=1 , ls='-', marker='o', label=\"C\")\n",
    "ax.scatter(D, D,color=\"blue\", lw=1 , ls='-', marker='o', label=\"D\")\n",
    "ax.scatter(E, E,color=\"blue\", lw=1 , ls='-', marker='o', label=\"E\")\n",
    "ax.scatter(F, F,color=\"blue\", lw=1 , ls='-', marker='o', label=\"F\")\n",
    "\n",
    "#ax.plot(data.month_number, data.facewash,color=\"orange\", lw=3, ls='-', marker='o', label=\"Profit data of last year\")\n",
    "#ax.plot(data.month_number, data.toothpaste,color=\"green\", lw=3, ls='-', marker='o', label=\"Profit data of last year\")\n",
    "#ax.plot(data.month_number, data.bathingsoap,color=\"red\", lw=3, ls='-', marker='o', label=\"Profit data of last year\")\n",
    "#ax.plot(data.month_number, data.shampoo,color=\"purple\", lw=3, ls='-', marker='o', label=\"Profit data of last year\")\n",
    "#ax.plot(data.month_number, data.moisturizer,color=\"brown\", lw=3, ls='-', marker='o', label=\"Profit data of last year\")\n",
    "ax.legend(loc=2);\n",
    "ax.set_xlabel('Month Number')\n",
    "ax.set_ylabel('Sales units in number')\n",
    "ax.set_title('Sales data');\n",
    "#ax.set_ylim([900, 18000])\n",
    "#ax.set_xlim([0.5, 12.5])"
   ]
  },
  {
   "cell_type": "code",
   "execution_count": 4,
   "metadata": {},
   "outputs": [
    {
     "data": {
      "text/plain": [
       "array([[ 0.00943988, -0.51472796],\n",
       "       [ 0.304963  ,  0.44963245],\n",
       "       [ 0.5547244 ,  0.00588507],\n",
       "       ...,\n",
       "       [ 0.16410867,  0.49739739],\n",
       "       [-0.45117124, -0.00751506],\n",
       "       [-0.96670255,  0.44163543]])"
      ]
     },
     "execution_count": 4,
     "metadata": {},
     "output_type": "execute_result"
    }
   ],
   "source": [
    "A"
   ]
  },
  {
   "cell_type": "markdown",
   "metadata": {},
   "source": [
    "## Exercise 2\n",
    "Perform ```K-Means``` clustering on all data sets: https://scikit-learn.org/stable/modules/generated/sklearn.cluster.KMeans.html#sklearn.cluster.KMeans\n",
    "* 2.1 plot all results\n",
    "* 2.2 manually try to find the best $k$ for each data set (by visual evaluation)\n",
    "* 2.3 Use the ```K-Means++``` initialization "
   ]
  },
  {
   "cell_type": "markdown",
   "metadata": {},
   "source": [
    "## Exercise 3\n",
    "Performs ```DBSCAN``` clustering on all data sets and plot all results: https://scikit-learn.org/stable/modules/generated/sklearn.cluster.DBSCAN.html#sklearn.cluster.DBSCAN\n"
   ]
  },
  {
   "cell_type": "code",
   "execution_count": null,
   "metadata": {},
   "outputs": [],
   "source": []
  }
 ],
 "metadata": {
  "kernelspec": {
   "display_name": "Python 3",
   "language": "python",
   "name": "python3"
  },
  "language_info": {
   "codemirror_mode": {
    "name": "ipython",
    "version": 3
   },
   "file_extension": ".py",
   "mimetype": "text/x-python",
   "name": "python",
   "nbconvert_exporter": "python",
   "pygments_lexer": "ipython3",
   "version": "3.8.5"
  }
 },
 "nbformat": 4,
 "nbformat_minor": 4
}
